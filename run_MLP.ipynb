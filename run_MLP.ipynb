{
 "cells": [
  {
   "cell_type": "code",
   "execution_count": 2,
   "id": "pjd1Z1oKz7jL",
   "metadata": {
    "colab": {
     "base_uri": "https://localhost:8080/"
    },
    "executionInfo": {
     "elapsed": 20264,
     "status": "ok",
     "timestamp": 1734274742856,
     "user": {
      "displayName": "Milad Torabi",
      "userId": "05383482760052848377"
     },
     "user_tz": -60
    },
    "id": "pjd1Z1oKz7jL",
    "outputId": "8cd10a7a-b7be-428d-f791-7931255ea867"
   },
   "outputs": [
    {
     "name": "stdout",
     "output_type": "stream",
     "text": [
      "Mounted at /content/drive\n"
     ]
    }
   ],
   "source": [
    "from google.colab import drive\n",
    "drive.mount('/content/drive')"
   ]
  },
  {
   "cell_type": "code",
   "execution_count": 4,
   "id": "fxWGwwWc0FgA",
   "metadata": {
    "executionInfo": {
     "elapsed": 527,
     "status": "ok",
     "timestamp": 1734274747051,
     "user": {
      "displayName": "Milad Torabi",
      "userId": "05383482760052848377"
     },
     "user_tz": -60
    },
    "id": "fxWGwwWc0FgA"
   },
   "outputs": [],
   "source": [
    "import sys\n",
    "sys.path.append('/content/drive/My Drive/OMDS_firstassignment_MLP/')"
   ]
  },
  {
   "cell_type": "code",
   "execution_count": 5,
   "id": "eaead08b",
   "metadata": {
    "executionInfo": {
     "elapsed": 3820,
     "status": "ok",
     "timestamp": 1734274752851,
     "user": {
      "displayName": "Milad Torabi",
      "userId": "05383482760052848377"
     },
     "user_tz": -60
    },
    "id": "eaead08b"
   },
   "outputs": [],
   "source": [
    "import numpy as np\n",
    "import pandas as pd\n",
    "from Functions_MLP import *\n",
    "from sklearn.model_selection import KFold\n",
    "from sklearn.model_selection import train_test_split\n",
    "import itertools\n",
    "import matplotlib.pyplot as plt\n",
    "from tqdm import tqdm\n",
    "np.random.seed(42)"
   ]
  },
  {
   "cell_type": "code",
   "execution_count": 6,
   "id": "965e0d77",
   "metadata": {
    "colab": {
     "base_uri": "https://localhost:8080/"
    },
    "executionInfo": {
     "elapsed": 3376,
     "status": "ok",
     "timestamp": 1734274756225,
     "user": {
      "displayName": "Milad Torabi",
      "userId": "05383482760052848377"
     },
     "user_tz": -60
    },
    "id": "965e0d77",
    "outputId": "1035ef43-7d31-4ab1-a4a3-7e4a60667822"
   },
   "outputs": [
    {
     "name": "stdout",
     "output_type": "stream",
     "text": [
      "Training set shape: X_train = (16380, 32), y_train = (16380,)\n",
      "Test set shape: X_test = (4095, 32), y_test = (4095,)\n"
     ]
    }
   ],
   "source": [
    "# Replace 'your_file_id_here' with the actual file ID\n",
    "FILE_ID = '1eJoLgGqnX7Le1vOTeioCsp_dRtuxmo4O'\n",
    "# Read the CSV file into a DataFrame'\n",
    "download_url = f'https://drive.google.com/uc?id={FILE_ID}'\n",
    "\n",
    "# Load dataset\n",
    "data = pd.read_csv(download_url)\n",
    "\n",
    "# Extract features (X) and target (y)\n",
    "# Splits the data into:\n",
    "# - Features (X): All columns except 'gt'.\n",
    "# - Target (y): The 'gt' column (ground truth or target variable).\n",
    "X = data.drop(columns=['gt']).values  # Features\n",
    "y = data['gt'].values  # Target(age column)\n",
    "\n",
    "\n",
    "# Split the data into training (80%) and test (20%) sets\n",
    "# Divides the dataset into:\n",
    "# - Training set: 80% of the data (used for training the model).\n",
    "# - Test set: 20% of the data (used for evaluating the model's performance).\n",
    "# `random_state=42` ensures reproducibility of the splits.\n",
    "X_train_raw, X_test_raw, y_train, y_test = train_test_split(X, y, test_size=0.2, random_state=42)\n",
    "\n",
    "\n",
    "# Normalize the training set using Z-score normalization (Standardization)\n",
    "x_mean = np.mean(X_train_raw, axis=0)\n",
    "x_std = np.std(X_train_raw, axis=0)\n",
    "\n",
    "\n",
    "# Normalize the training data\n",
    "X_train = (X_train_raw - x_mean) / x_std\n",
    "\n",
    "\n",
    "# Normalize the test set using Z-score normalization (Standardization)\n",
    "# The test set is normalized using training data statistics mean and standard deviation\n",
    "# to avoid any potential data leakage from the test set.\n",
    "# This ensures that information from the test set does not influence the validation\n",
    "# and test process\n",
    "X_test = (X_test_raw - x_mean) / x_std\n",
    "\n",
    "\n",
    "# Print the shapes of the training and test datasets to ensure everything is processed correctly.\n",
    "print(f\"Training set shape: X_train = {X_train.shape}, y_train = {y_train.shape}\")\n",
    "print(f\"Test set shape: X_test = {X_test.shape}, y_test = {y_test.shape}\")\n"
   ]
  },
  {
   "cell_type": "code",
   "execution_count": 8,
   "id": "b4f5882f",
   "metadata": {
    "executionInfo": {
     "elapsed": 523,
     "status": "ok",
     "timestamp": 1734274785729,
     "user": {
      "displayName": "Milad Torabi",
      "userId": "05383482760052848377"
     },
     "user_tz": -60
    },
    "id": "b4f5882f"
   },
   "outputs": [],
   "source": [
    "# Define the hyperparameters and their possible values\n",
    "# The hyperparameter space includes:\n",
    "# - hidden_layer_sizes: Different configurations for the number of neurons in hidden layers.\n",
    "# - lambda_reg: L2 regularization strengths to prevent overfitting.\n",
    "# - activation: Activation functions to introduce non-linearity into the network.\n",
    "# - initialization_mode: Methods for initializing weights to ensure proper convergence.\n",
    "hyperparameter_space = {\n",
    "    'hidden_layer_sizes': [\n",
    "        [32, 16],\n",
    "        [64, 32],\n",
    "        [128, 64],\n",
    "        [64, 32, 32],\n",
    "        [128, 64, 32],\n",
    "        [128, 64, 32, 16]],\n",
    "    'lambda_reg': [0.001, 0.01, 0.1],\n",
    "    'activation': ['relu', 'tanh', 'swish'],\n",
    "    'initialization_mode': ['he', 'xavier']}\n",
    "\n",
    "# Number of folds for cross-validation\n",
    "# k determines the number of splits in k-fold cross-validation.\n",
    "# KFold ensures that the dataset is divided into `k` parts (folds),\n",
    "# with `shuffle=True` to randomize the order of samples.\n",
    "# `random_state=42` ensures reproducibility of the splits.\n",
    "k = 5\n",
    "kf = KFold(n_splits=k, shuffle=True, random_state=42)\n",
    "\n",
    "# Generate all combinations of hyperparameters\n",
    "# This creates a Cartesian product of all possible combinations of hyperparameter values.\n",
    "# Each combination is a tuple representing a specific configuration.\n",
    "hyperparameter_combinations = list(itertools.product(\n",
    "    hyperparameter_space['hidden_layer_sizes'],  # Possible hidden layer configurations\n",
    "    hyperparameter_space['lambda_reg'],         # L2 regularization strengths\n",
    "    hyperparameter_space['activation'],         # Activation functions\n",
    "    hyperparameter_space['initialization_mode'])) # Weight initialization modes"
   ]
  },
  {
   "cell_type": "code",
   "execution_count": 9,
   "id": "14c94a41",
   "metadata": {
    "colab": {
     "base_uri": "https://localhost:8080/"
    },
    "executionInfo": {
     "elapsed": 8816295,
     "status": "ok",
     "timestamp": 1734283616295,
     "user": {
      "displayName": "Milad Torabi",
      "userId": "05383482760052848377"
     },
     "user_tz": -60
    },
    "id": "14c94a41",
    "outputId": "06001056-5324-4e80-c613-1c9e6c6cb38f"
   },
   "outputs": [
    {
     "name": "stderr",
     "output_type": "stream",
     "text": [
      "Hyperparameter Search:   0%|          | 0/108 [00:00<?, ?it/s]"
     ]
    },
    {
     "name": "stdout",
     "output_type": "stream",
     "text": [
      "Combination 1/108:\n"
     ]
    },
    {
     "name": "stderr",
     "output_type": "stream",
     "text": [
      "Hyperparameter Search:   1%|          | 1/108 [00:11<20:53, 11.71s/it]"
     ]
    },
    {
     "name": "stdout",
     "output_type": "stream",
     "text": [
      "\n",
      "                number of layers: 2  \n",
      "                number of neurons: [32, 16] \n",
      "                activation function: relu\n",
      "                initialization_mode: he \n",
      "                Lambda: 0.001  \n",
      "                optimization solver: L-BFGS-B optimizer \n",
      "                number of iterations: 42.8 \n",
      "                optimization time: 2.2768073081970215 \n",
      "                Training Error: 97.60416612658851  \n",
      "                training MAPE: 23.407856333432207\n",
      "                \n",
      "Combination 2/108:\n"
     ]
    },
    {
     "name": "stderr",
     "output_type": "stream",
     "text": [
      "Hyperparameter Search:   2%|▏         | 2/108 [00:24<22:04, 12.49s/it]"
     ]
    },
    {
     "name": "stdout",
     "output_type": "stream",
     "text": [
      "\n",
      "                number of layers: 2  \n",
      "                number of neurons: [32, 16] \n",
      "                activation function: relu\n",
      "                initialization_mode: xavier \n",
      "                Lambda: 0.001  \n",
      "                optimization solver: L-BFGS-B optimizer \n",
      "                number of iterations: 41.0 \n",
      "                optimization time: 2.555920362472534 \n",
      "                Training Error: 97.62725118266329  \n",
      "                training MAPE: 23.37985334000021\n",
      "                \n",
      "Combination 3/108:\n"
     ]
    },
    {
     "name": "stderr",
     "output_type": "stream",
     "text": [
      "Hyperparameter Search:   3%|▎         | 3/108 [00:38<22:45, 13.00s/it]"
     ]
    },
    {
     "name": "stdout",
     "output_type": "stream",
     "text": [
      "\n",
      "                number of layers: 2  \n",
      "                number of neurons: [32, 16] \n",
      "                activation function: tanh\n",
      "                initialization_mode: he \n",
      "                Lambda: 0.001  \n",
      "                optimization solver: L-BFGS-B optimizer \n",
      "                number of iterations: 76.8 \n",
      "                optimization time: 2.6458597660064695 \n",
      "                Training Error: 96.99708671462727  \n",
      "                training MAPE: 23.184298672289334\n",
      "                \n",
      "Combination 4/108:\n"
     ]
    },
    {
     "name": "stderr",
     "output_type": "stream",
     "text": [
      "Hyperparameter Search:   4%|▎         | 4/108 [00:52<23:05, 13.32s/it]"
     ]
    },
    {
     "name": "stdout",
     "output_type": "stream",
     "text": [
      "\n",
      "                number of layers: 2  \n",
      "                number of neurons: [32, 16] \n",
      "                activation function: tanh\n",
      "                initialization_mode: xavier \n",
      "                Lambda: 0.001  \n",
      "                optimization solver: L-BFGS-B optimizer \n",
      "                number of iterations: 69.8 \n",
      "                optimization time: 2.708135986328125 \n",
      "                Training Error: 97.82288583002575  \n",
      "                training MAPE: 23.363705195920048\n",
      "                \n",
      "Combination 5/108:\n"
     ]
    },
    {
     "name": "stderr",
     "output_type": "stream",
     "text": [
      "Hyperparameter Search:   5%|▍         | 5/108 [01:07<24:16, 14.14s/it]"
     ]
    },
    {
     "name": "stdout",
     "output_type": "stream",
     "text": [
      "\n",
      "                number of layers: 2  \n",
      "                number of neurons: [32, 16] \n",
      "                activation function: swish\n",
      "                initialization_mode: he \n",
      "                Lambda: 0.001  \n",
      "                optimization solver: L-BFGS-B optimizer \n",
      "                number of iterations: 47.0 \n",
      "                optimization time: 3.0471840858459474 \n",
      "                Training Error: 97.9548054489052  \n",
      "                training MAPE: 23.610324034022902\n",
      "                \n",
      "Combination 6/108:\n"
     ]
    },
    {
     "name": "stderr",
     "output_type": "stream",
     "text": [
      "Hyperparameter Search:   6%|▌         | 6/108 [01:28<27:45, 16.33s/it]"
     ]
    },
    {
     "name": "stdout",
     "output_type": "stream",
     "text": [
      "\n",
      "                number of layers: 2  \n",
      "                number of neurons: [32, 16] \n",
      "                activation function: swish\n",
      "                initialization_mode: xavier \n",
      "                Lambda: 0.001  \n",
      "                optimization solver: L-BFGS-B optimizer \n",
      "                number of iterations: 45.2 \n",
      "                optimization time: 4.047631120681762 \n",
      "                Training Error: 98.02559682677011  \n",
      "                training MAPE: 23.41338201052806\n",
      "                \n",
      "Combination 7/108:\n"
     ]
    },
    {
     "name": "stderr",
     "output_type": "stream",
     "text": [
      "Hyperparameter Search:   6%|▋         | 7/108 [01:40<25:22, 15.08s/it]"
     ]
    },
    {
     "name": "stdout",
     "output_type": "stream",
     "text": [
      "\n",
      "                number of layers: 2  \n",
      "                number of neurons: [32, 16] \n",
      "                activation function: relu\n",
      "                initialization_mode: he \n",
      "                Lambda: 0.01  \n",
      "                optimization solver: L-BFGS-B optimizer \n",
      "                number of iterations: 50.2 \n",
      "                optimization time: 2.4480876445770265 \n",
      "                Training Error: 98.30865751178104  \n",
      "                training MAPE: 23.33120188736344\n",
      "                \n",
      "Combination 8/108:\n"
     ]
    },
    {
     "name": "stderr",
     "output_type": "stream",
     "text": [
      "Hyperparameter Search:   7%|▋         | 8/108 [01:54<24:09, 14.50s/it]"
     ]
    },
    {
     "name": "stdout",
     "output_type": "stream",
     "text": [
      "\n",
      "                number of layers: 2  \n",
      "                number of neurons: [32, 16] \n",
      "                activation function: relu\n",
      "                initialization_mode: xavier \n",
      "                Lambda: 0.01  \n",
      "                optimization solver: L-BFGS-B optimizer \n",
      "                number of iterations: 48.6 \n",
      "                optimization time: 2.6017383098602296 \n",
      "                Training Error: 97.90450919448327  \n",
      "                training MAPE: 23.33259497760268\n",
      "                \n",
      "Combination 9/108:\n"
     ]
    },
    {
     "name": "stderr",
     "output_type": "stream",
     "text": [
      "Hyperparameter Search:   8%|▊         | 9/108 [02:10<24:48, 15.04s/it]"
     ]
    },
    {
     "name": "stdout",
     "output_type": "stream",
     "text": [
      "\n",
      "                number of layers: 2  \n",
      "                number of neurons: [32, 16] \n",
      "                activation function: tanh\n",
      "                initialization_mode: he \n",
      "                Lambda: 0.01  \n",
      "                optimization solver: L-BFGS-B optimizer \n",
      "                number of iterations: 102.6 \n",
      "                optimization time: 3.191147470474243 \n",
      "                Training Error: 100.41202927489915  \n",
      "                training MAPE: 23.27242952686993\n",
      "                \n",
      "Combination 10/108:\n"
     ]
    },
    {
     "name": "stderr",
     "output_type": "stream",
     "text": [
      "Hyperparameter Search:   9%|▉         | 10/108 [02:25<24:48, 15.19s/it]"
     ]
    },
    {
     "name": "stdout",
     "output_type": "stream",
     "text": [
      "\n",
      "                number of layers: 2  \n",
      "                number of neurons: [32, 16] \n",
      "                activation function: tanh\n",
      "                initialization_mode: xavier \n",
      "                Lambda: 0.01  \n",
      "                optimization solver: L-BFGS-B optimizer \n",
      "                number of iterations: 92.2 \n",
      "                optimization time: 3.040596914291382 \n",
      "                Training Error: 101.00650047927469  \n",
      "                training MAPE: 23.183248901444482\n",
      "                \n",
      "Combination 11/108:\n"
     ]
    },
    {
     "name": "stderr",
     "output_type": "stream",
     "text": [
      "Hyperparameter Search:  10%|█         | 11/108 [02:46<27:25, 16.97s/it]"
     ]
    },
    {
     "name": "stdout",
     "output_type": "stream",
     "text": [
      "\n",
      "                number of layers: 2  \n",
      "                number of neurons: [32, 16] \n",
      "                activation function: swish\n",
      "                initialization_mode: he \n",
      "                Lambda: 0.01  \n",
      "                optimization solver: L-BFGS-B optimizer \n",
      "                number of iterations: 44.4 \n",
      "                optimization time: 4.141672611236572 \n",
      "                Training Error: 99.31462635730826  \n",
      "                training MAPE: 23.472367637834616\n",
      "                \n",
      "Combination 12/108:\n"
     ]
    },
    {
     "name": "stderr",
     "output_type": "stream",
     "text": [
      "Hyperparameter Search:  11%|█         | 12/108 [02:57<23:56, 14.96s/it]"
     ]
    },
    {
     "name": "stdout",
     "output_type": "stream",
     "text": [
      "\n",
      "                number of layers: 2  \n",
      "                number of neurons: [32, 16] \n",
      "                activation function: swish\n",
      "                initialization_mode: xavier \n",
      "                Lambda: 0.01  \n",
      "                optimization solver: L-BFGS-B optimizer \n",
      "                number of iterations: 32.0 \n",
      "                optimization time: 2.0143546581268312 \n",
      "                Training Error: 99.20365165189679  \n",
      "                training MAPE: 23.405756011872626\n",
      "                \n",
      "Combination 13/108:\n"
     ]
    },
    {
     "name": "stderr",
     "output_type": "stream",
     "text": [
      "Hyperparameter Search:  12%|█▏        | 13/108 [03:12<23:49, 15.05s/it]"
     ]
    },
    {
     "name": "stdout",
     "output_type": "stream",
     "text": [
      "\n",
      "                number of layers: 2  \n",
      "                number of neurons: [32, 16] \n",
      "                activation function: relu\n",
      "                initialization_mode: he \n",
      "                Lambda: 0.1  \n",
      "                optimization solver: L-BFGS-B optimizer \n",
      "                number of iterations: 68.6 \n",
      "                optimization time: 3.0013331890106203 \n",
      "                Training Error: 103.86379250393729  \n",
      "                training MAPE: 23.371242186908734\n",
      "                \n",
      "Combination 14/108:\n"
     ]
    },
    {
     "name": "stderr",
     "output_type": "stream",
     "text": [
      "Hyperparameter Search:  13%|█▎        | 14/108 [03:33<26:18, 16.79s/it]"
     ]
    },
    {
     "name": "stdout",
     "output_type": "stream",
     "text": [
      "\n",
      "                number of layers: 2  \n",
      "                number of neurons: [32, 16] \n",
      "                activation function: relu\n",
      "                initialization_mode: xavier \n",
      "                Lambda: 0.1  \n",
      "                optimization solver: L-BFGS-B optimizer \n",
      "                number of iterations: 93.4 \n",
      "                optimization time: 4.111060094833374 \n",
      "                Training Error: 99.0916637292876  \n",
      "                training MAPE: 23.2890013349431\n",
      "                \n",
      "Combination 15/108:\n"
     ]
    },
    {
     "name": "stderr",
     "output_type": "stream",
     "text": [
      "Hyperparameter Search:  14%|█▍        | 15/108 [03:52<27:15, 17.59s/it]"
     ]
    },
    {
     "name": "stdout",
     "output_type": "stream",
     "text": [
      "\n",
      "                number of layers: 2  \n",
      "                number of neurons: [32, 16] \n",
      "                activation function: tanh\n",
      "                initialization_mode: he \n",
      "                Lambda: 0.1  \n",
      "                optimization solver: L-BFGS-B optimizer \n",
      "                number of iterations: 102.8 \n",
      "                optimization time: 3.8206674098968505 \n",
      "                Training Error: 114.30546292977894  \n",
      "                training MAPE: 23.4606818778135\n",
      "                \n",
      "Combination 16/108:\n"
     ]
    },
    {
     "name": "stderr",
     "output_type": "stream",
     "text": [
      "Hyperparameter Search:  15%|█▍        | 16/108 [04:13<28:30, 18.59s/it]"
     ]
    },
    {
     "name": "stdout",
     "output_type": "stream",
     "text": [
      "\n",
      "                number of layers: 2  \n",
      "                number of neurons: [32, 16] \n",
      "                activation function: tanh\n",
      "                initialization_mode: xavier \n",
      "                Lambda: 0.1  \n",
      "                optimization solver: L-BFGS-B optimizer \n",
      "                number of iterations: 122.0 \n",
      "                optimization time: 4.132207012176513 \n",
      "                Training Error: 112.22751729830395  \n",
      "                training MAPE: 23.314401571372606\n",
      "                \n",
      "Combination 17/108:\n"
     ]
    },
    {
     "name": "stderr",
     "output_type": "stream",
     "text": [
      "Hyperparameter Search:  16%|█▌        | 17/108 [04:42<32:48, 21.63s/it]"
     ]
    },
    {
     "name": "stdout",
     "output_type": "stream",
     "text": [
      "\n",
      "                number of layers: 2  \n",
      "                number of neurons: [32, 16] \n",
      "                activation function: swish\n",
      "                initialization_mode: he \n",
      "                Lambda: 0.1  \n",
      "                optimization solver: L-BFGS-B optimizer \n",
      "                number of iterations: 92.8 \n",
      "                optimization time: 5.664934539794922 \n",
      "                Training Error: 100.41439884454365  \n",
      "                training MAPE: 23.2555816032583\n",
      "                \n",
      "Combination 18/108:\n"
     ]
    },
    {
     "name": "stderr",
     "output_type": "stream",
     "text": [
      "Hyperparameter Search:  17%|█▋        | 18/108 [05:09<34:46, 23.19s/it]"
     ]
    },
    {
     "name": "stdout",
     "output_type": "stream",
     "text": [
      "\n",
      "                number of layers: 2  \n",
      "                number of neurons: [32, 16] \n",
      "                activation function: swish\n",
      "                initialization_mode: xavier \n",
      "                Lambda: 0.1  \n",
      "                optimization solver: L-BFGS-B optimizer \n",
      "                number of iterations: 73.2 \n",
      "                optimization time: 5.273758411407471 \n",
      "                Training Error: 101.39588348010926  \n",
      "                training MAPE: 23.244383780480767\n",
      "                \n",
      "Combination 19/108:\n"
     ]
    },
    {
     "name": "stderr",
     "output_type": "stream",
     "text": [
      "Hyperparameter Search:  18%|█▊        | 19/108 [05:30<33:37, 22.67s/it]"
     ]
    },
    {
     "name": "stdout",
     "output_type": "stream",
     "text": [
      "\n",
      "                number of layers: 2  \n",
      "                number of neurons: [64, 32] \n",
      "                activation function: relu\n",
      "                initialization_mode: he \n",
      "                Lambda: 0.001  \n",
      "                optimization solver: L-BFGS-B optimizer \n",
      "                number of iterations: 51.0 \n",
      "                optimization time: 4.19371452331543 \n",
      "                Training Error: 97.11297486579244  \n",
      "                training MAPE: 23.282178874350937\n",
      "                \n",
      "Combination 20/108:\n"
     ]
    },
    {
     "name": "stderr",
     "output_type": "stream",
     "text": [
      "Hyperparameter Search:  19%|█▊        | 20/108 [05:52<33:02, 22.53s/it]"
     ]
    },
    {
     "name": "stdout",
     "output_type": "stream",
     "text": [
      "\n",
      "                number of layers: 2  \n",
      "                number of neurons: [64, 32] \n",
      "                activation function: relu\n",
      "                initialization_mode: xavier \n",
      "                Lambda: 0.001  \n",
      "                optimization solver: L-BFGS-B optimizer \n",
      "                number of iterations: 42.6 \n",
      "                optimization time: 4.322039222717285 \n",
      "                Training Error: 98.46654453675252  \n",
      "                training MAPE: 23.347561678810916\n",
      "                \n",
      "Combination 21/108:\n"
     ]
    },
    {
     "name": "stderr",
     "output_type": "stream",
     "text": [
      "Hyperparameter Search:  19%|█▉        | 21/108 [06:23<36:14, 24.99s/it]"
     ]
    },
    {
     "name": "stdout",
     "output_type": "stream",
     "text": [
      "\n",
      "                number of layers: 2  \n",
      "                number of neurons: [64, 32] \n",
      "                activation function: tanh\n",
      "                initialization_mode: he \n",
      "                Lambda: 0.001  \n",
      "                optimization solver: L-BFGS-B optimizer \n",
      "                number of iterations: 77.0 \n",
      "                optimization time: 6.005516386032104 \n",
      "                Training Error: 96.50633273068456  \n",
      "                training MAPE: 23.142788801208845\n",
      "                \n",
      "Combination 22/108:\n"
     ]
    },
    {
     "name": "stderr",
     "output_type": "stream",
     "text": [
      "Hyperparameter Search:  20%|██        | 22/108 [06:55<38:45, 27.04s/it]"
     ]
    },
    {
     "name": "stdout",
     "output_type": "stream",
     "text": [
      "\n",
      "                number of layers: 2  \n",
      "                number of neurons: [64, 32] \n",
      "                activation function: tanh\n",
      "                initialization_mode: xavier \n",
      "                Lambda: 0.001  \n",
      "                optimization solver: L-BFGS-B optimizer \n",
      "                number of iterations: 78.0 \n",
      "                optimization time: 6.253719615936279 \n",
      "                Training Error: 96.33485207904258  \n",
      "                training MAPE: 23.14262675669945\n",
      "                \n",
      "Combination 23/108:\n"
     ]
    },
    {
     "name": "stderr",
     "output_type": "stream",
     "text": [
      "Hyperparameter Search:  21%|██▏       | 23/108 [07:32<42:33, 30.04s/it]"
     ]
    },
    {
     "name": "stdout",
     "output_type": "stream",
     "text": [
      "\n",
      "                number of layers: 2  \n",
      "                number of neurons: [64, 32] \n",
      "                activation function: swish\n",
      "                initialization_mode: he \n",
      "                Lambda: 0.001  \n",
      "                optimization solver: L-BFGS-B optimizer \n",
      "                number of iterations: 49.2 \n",
      "                optimization time: 7.290672874450683 \n",
      "                Training Error: 98.03028727108612  \n",
      "                training MAPE: 23.400707730165294\n",
      "                \n",
      "Combination 24/108:\n"
     ]
    },
    {
     "name": "stderr",
     "output_type": "stream",
     "text": [
      "Hyperparameter Search:  22%|██▏       | 24/108 [08:11<45:50, 32.75s/it]"
     ]
    },
    {
     "name": "stdout",
     "output_type": "stream",
     "text": [
      "\n",
      "                number of layers: 2  \n",
      "                number of neurons: [64, 32] \n",
      "                activation function: swish\n",
      "                initialization_mode: xavier \n",
      "                Lambda: 0.001  \n",
      "                optimization solver: L-BFGS-B optimizer \n",
      "                number of iterations: 48.0 \n",
      "                optimization time: 7.649347925186158 \n",
      "                Training Error: 97.77212404865007  \n",
      "                training MAPE: 23.313426629106118\n",
      "                \n",
      "Combination 25/108:\n"
     ]
    },
    {
     "name": "stderr",
     "output_type": "stream",
     "text": [
      "Hyperparameter Search:  23%|██▎       | 25/108 [08:36<42:06, 30.44s/it]"
     ]
    },
    {
     "name": "stdout",
     "output_type": "stream",
     "text": [
      "\n",
      "                number of layers: 2  \n",
      "                number of neurons: [64, 32] \n",
      "                activation function: relu\n",
      "                initialization_mode: he \n",
      "                Lambda: 0.01  \n",
      "                optimization solver: L-BFGS-B optimizer \n",
      "                number of iterations: 41.2 \n",
      "                optimization time: 4.900776529312134 \n",
      "                Training Error: 99.82389805856278  \n",
      "                training MAPE: 23.354079722234864\n",
      "                \n",
      "Combination 26/108:\n"
     ]
    },
    {
     "name": "stderr",
     "output_type": "stream",
     "text": [
      "Hyperparameter Search:  24%|██▍       | 26/108 [09:06<41:21, 30.26s/it]"
     ]
    },
    {
     "name": "stdout",
     "output_type": "stream",
     "text": [
      "\n",
      "                number of layers: 2  \n",
      "                number of neurons: [64, 32] \n",
      "                activation function: relu\n",
      "                initialization_mode: xavier \n",
      "                Lambda: 0.01  \n",
      "                optimization solver: L-BFGS-B optimizer \n",
      "                number of iterations: 60.0 \n",
      "                optimization time: 5.844239044189453 \n",
      "                Training Error: 97.60729469555538  \n",
      "                training MAPE: 23.252546275317194\n",
      "                \n",
      "Combination 27/108:\n"
     ]
    },
    {
     "name": "stderr",
     "output_type": "stream",
     "text": [
      "Hyperparameter Search:  25%|██▌       | 27/108 [09:39<41:49, 30.98s/it]"
     ]
    },
    {
     "name": "stdout",
     "output_type": "stream",
     "text": [
      "\n",
      "                number of layers: 2  \n",
      "                number of neurons: [64, 32] \n",
      "                activation function: tanh\n",
      "                initialization_mode: he \n",
      "                Lambda: 0.01  \n",
      "                optimization solver: L-BFGS-B optimizer \n",
      "                number of iterations: 84.4 \n",
      "                optimization time: 6.409554529190063 \n",
      "                Training Error: 99.2958350328934  \n",
      "                training MAPE: 23.15280191156997\n",
      "                \n",
      "Combination 28/108:\n"
     ]
    },
    {
     "name": "stderr",
     "output_type": "stream",
     "text": [
      "Hyperparameter Search:  26%|██▌       | 28/108 [10:11<42:03, 31.54s/it]"
     ]
    },
    {
     "name": "stdout",
     "output_type": "stream",
     "text": [
      "\n",
      "                number of layers: 2  \n",
      "                number of neurons: [64, 32] \n",
      "                activation function: tanh\n",
      "                initialization_mode: xavier \n",
      "                Lambda: 0.01  \n",
      "                optimization solver: L-BFGS-B optimizer \n",
      "                number of iterations: 89.0 \n",
      "                optimization time: 6.445137929916382 \n",
      "                Training Error: 99.89183965322817  \n",
      "                training MAPE: 23.20638429040945\n",
      "                \n",
      "Combination 29/108:\n"
     ]
    },
    {
     "name": "stderr",
     "output_type": "stream",
     "text": [
      "Hyperparameter Search:  27%|██▋       | 29/108 [10:58<47:36, 36.16s/it]"
     ]
    },
    {
     "name": "stdout",
     "output_type": "stream",
     "text": [
      "\n",
      "                number of layers: 2  \n",
      "                number of neurons: [64, 32] \n",
      "                activation function: swish\n",
      "                initialization_mode: he \n",
      "                Lambda: 0.01  \n",
      "                optimization solver: L-BFGS-B optimizer \n",
      "                number of iterations: 62.4 \n",
      "                optimization time: 9.246961498260498 \n",
      "                Training Error: 99.18363801619526  \n",
      "                training MAPE: 23.29475455222511\n",
      "                \n",
      "Combination 30/108:\n"
     ]
    },
    {
     "name": "stderr",
     "output_type": "stream",
     "text": [
      "Hyperparameter Search:  28%|██▊       | 30/108 [11:42<49:56, 38.41s/it]"
     ]
    },
    {
     "name": "stdout",
     "output_type": "stream",
     "text": [
      "\n",
      "                number of layers: 2  \n",
      "                number of neurons: [64, 32] \n",
      "                activation function: swish\n",
      "                initialization_mode: xavier \n",
      "                Lambda: 0.01  \n",
      "                optimization solver: L-BFGS-B optimizer \n",
      "                number of iterations: 47.4 \n",
      "                optimization time: 8.592604207992554 \n",
      "                Training Error: 98.99925737948595  \n",
      "                training MAPE: 23.40172504778833\n",
      "                \n",
      "Combination 31/108:\n"
     ]
    },
    {
     "name": "stderr",
     "output_type": "stream",
     "text": [
      "Hyperparameter Search:  29%|██▊       | 31/108 [12:11<45:43, 35.62s/it]"
     ]
    },
    {
     "name": "stdout",
     "output_type": "stream",
     "text": [
      "\n",
      "                number of layers: 2  \n",
      "                number of neurons: [64, 32] \n",
      "                activation function: relu\n",
      "                initialization_mode: he \n",
      "                Lambda: 0.1  \n",
      "                optimization solver: L-BFGS-B optimizer \n",
      "                number of iterations: 62.8 \n",
      "                optimization time: 5.7307209968566895 \n",
      "                Training Error: 111.12424893417361  \n",
      "                training MAPE: 23.24117744415469\n",
      "                \n",
      "Combination 32/108:\n"
     ]
    },
    {
     "name": "stderr",
     "output_type": "stream",
     "text": [
      "Hyperparameter Search:  30%|██▉       | 32/108 [12:43<43:39, 34.47s/it]"
     ]
    },
    {
     "name": "stdout",
     "output_type": "stream",
     "text": [
      "\n",
      "                number of layers: 2  \n",
      "                number of neurons: [64, 32] \n",
      "                activation function: relu\n",
      "                initialization_mode: xavier \n",
      "                Lambda: 0.1  \n",
      "                optimization solver: L-BFGS-B optimizer \n",
      "                number of iterations: 70.0 \n",
      "                optimization time: 6.2599958896636965 \n",
      "                Training Error: 104.94744383027376  \n",
      "                training MAPE: 23.617236821138096\n",
      "                \n",
      "Combination 33/108:\n"
     ]
    },
    {
     "name": "stderr",
     "output_type": "stream",
     "text": [
      "Hyperparameter Search:  31%|███       | 33/108 [13:42<52:23, 41.91s/it]"
     ]
    },
    {
     "name": "stdout",
     "output_type": "stream",
     "text": [
      "\n",
      "                number of layers: 2  \n",
      "                number of neurons: [64, 32] \n",
      "                activation function: tanh\n",
      "                initialization_mode: he \n",
      "                Lambda: 0.1  \n",
      "                optimization solver: L-BFGS-B optimizer \n",
      "                number of iterations: 125.8 \n",
      "                optimization time: 11.735517597198486 \n",
      "                Training Error: 110.64513527863714  \n",
      "                training MAPE: 23.19535239907649\n",
      "                \n",
      "Combination 34/108:\n"
     ]
    },
    {
     "name": "stderr",
     "output_type": "stream",
     "text": [
      "Hyperparameter Search:  31%|███▏      | 34/108 [14:32<54:45, 44.40s/it]"
     ]
    },
    {
     "name": "stdout",
     "output_type": "stream",
     "text": [
      "\n",
      "                number of layers: 2  \n",
      "                number of neurons: [64, 32] \n",
      "                activation function: tanh\n",
      "                initialization_mode: xavier \n",
      "                Lambda: 0.1  \n",
      "                optimization solver: L-BFGS-B optimizer \n",
      "                number of iterations: 124.0 \n",
      "                optimization time: 9.919440364837646 \n",
      "                Training Error: 108.67671968622957  \n",
      "                training MAPE: 23.262603417823545\n",
      "                \n",
      "Combination 35/108:\n"
     ]
    },
    {
     "name": "stderr",
     "output_type": "stream",
     "text": [
      "Hyperparameter Search:  32%|███▏      | 35/108 [15:13<52:42, 43.33s/it]"
     ]
    },
    {
     "name": "stdout",
     "output_type": "stream",
     "text": [
      "\n",
      "                number of layers: 2  \n",
      "                number of neurons: [64, 32] \n",
      "                activation function: swish\n",
      "                initialization_mode: he \n",
      "                Lambda: 0.1  \n",
      "                optimization solver: L-BFGS-B optimizer \n",
      "                number of iterations: 56.8 \n",
      "                optimization time: 8.022788333892823 \n",
      "                Training Error: 112.39902904488308  \n",
      "                training MAPE: 23.79831984628285\n",
      "                \n",
      "Combination 36/108:\n"
     ]
    },
    {
     "name": "stderr",
     "output_type": "stream",
     "text": [
      "Hyperparameter Search:  33%|███▎      | 36/108 [16:04<54:36, 45.51s/it]"
     ]
    },
    {
     "name": "stdout",
     "output_type": "stream",
     "text": [
      "\n",
      "                number of layers: 2  \n",
      "                number of neurons: [64, 32] \n",
      "                activation function: swish\n",
      "                initialization_mode: xavier \n",
      "                Lambda: 0.1  \n",
      "                optimization solver: L-BFGS-B optimizer \n",
      "                number of iterations: 72.8 \n",
      "                optimization time: 9.988372468948365 \n",
      "                Training Error: 102.9644048619655  \n",
      "                training MAPE: 23.326809898447248\n",
      "                \n",
      "Combination 37/108:\n"
     ]
    },
    {
     "name": "stderr",
     "output_type": "stream",
     "text": [
      "Hyperparameter Search:  34%|███▍      | 37/108 [17:25<1:06:41, 56.35s/it]"
     ]
    },
    {
     "name": "stdout",
     "output_type": "stream",
     "text": [
      "\n",
      "                number of layers: 2  \n",
      "                number of neurons: [128, 64] \n",
      "                activation function: relu\n",
      "                initialization_mode: he \n",
      "                Lambda: 0.001  \n",
      "                optimization solver: L-BFGS-B optimizer \n",
      "                number of iterations: 54.2 \n",
      "                optimization time: 16.085125112533568 \n",
      "                Training Error: 96.87934758293821  \n",
      "                training MAPE: 23.29499888891444\n",
      "                \n",
      "Combination 38/108:\n"
     ]
    },
    {
     "name": "stderr",
     "output_type": "stream",
     "text": [
      "Hyperparameter Search:  35%|███▌      | 38/108 [18:47<1:14:30, 63.87s/it]"
     ]
    },
    {
     "name": "stdout",
     "output_type": "stream",
     "text": [
      "\n",
      "                number of layers: 2  \n",
      "                number of neurons: [128, 64] \n",
      "                activation function: relu\n",
      "                initialization_mode: xavier \n",
      "                Lambda: 0.001  \n",
      "                optimization solver: L-BFGS-B optimizer \n",
      "                number of iterations: 57.6 \n",
      "                optimization time: 16.05698628425598 \n",
      "                Training Error: 96.74810523697256  \n",
      "                training MAPE: 23.25004143638007\n",
      "                \n",
      "Combination 39/108:\n"
     ]
    },
    {
     "name": "stderr",
     "output_type": "stream",
     "text": [
      "Hyperparameter Search:  36%|███▌      | 39/108 [20:39<1:30:13, 78.46s/it]"
     ]
    },
    {
     "name": "stdout",
     "output_type": "stream",
     "text": [
      "\n",
      "                number of layers: 2  \n",
      "                number of neurons: [128, 64] \n",
      "                activation function: tanh\n",
      "                initialization_mode: he \n",
      "                Lambda: 0.001  \n",
      "                optimization solver: L-BFGS-B optimizer \n",
      "                number of iterations: 85.6 \n",
      "                optimization time: 22.238708448410033 \n",
      "                Training Error: 95.98384835288759  \n",
      "                training MAPE: 23.07705946696745\n",
      "                \n",
      "Combination 40/108:\n"
     ]
    },
    {
     "name": "stderr",
     "output_type": "stream",
     "text": [
      "Hyperparameter Search:  37%|███▋      | 40/108 [22:19<1:36:15, 84.93s/it]"
     ]
    },
    {
     "name": "stdout",
     "output_type": "stream",
     "text": [
      "\n",
      "                number of layers: 2  \n",
      "                number of neurons: [128, 64] \n",
      "                activation function: tanh\n",
      "                initialization_mode: xavier \n",
      "                Lambda: 0.001  \n",
      "                optimization solver: L-BFGS-B optimizer \n",
      "                number of iterations: 78.0 \n",
      "                optimization time: 19.742778158187868 \n",
      "                Training Error: 96.19650787763479  \n",
      "                training MAPE: 23.093738064949584\n",
      "                \n",
      "Combination 41/108:\n"
     ]
    },
    {
     "name": "stderr",
     "output_type": "stream",
     "text": [
      "Hyperparameter Search:  38%|███▊      | 41/108 [23:51<1:37:07, 86.97s/it]"
     ]
    },
    {
     "name": "stdout",
     "output_type": "stream",
     "text": [
      "\n",
      "                number of layers: 2  \n",
      "                number of neurons: [128, 64] \n",
      "                activation function: swish\n",
      "                initialization_mode: he \n",
      "                Lambda: 0.001  \n",
      "                optimization solver: L-BFGS-B optimizer \n",
      "                number of iterations: 39.0 \n",
      "                optimization time: 18.066543769836425 \n",
      "                Training Error: 98.22580196250757  \n",
      "                training MAPE: 23.351382520425567\n",
      "                \n",
      "Combination 42/108:\n"
     ]
    },
    {
     "name": "stderr",
     "output_type": "stream",
     "text": [
      "Hyperparameter Search:  39%|███▉      | 42/108 [25:54<1:47:24, 97.64s/it]"
     ]
    },
    {
     "name": "stdout",
     "output_type": "stream",
     "text": [
      "\n",
      "                number of layers: 2  \n",
      "                number of neurons: [128, 64] \n",
      "                activation function: swish\n",
      "                initialization_mode: xavier \n",
      "                Lambda: 0.001  \n",
      "                optimization solver: L-BFGS-B optimizer \n",
      "                number of iterations: 50.2 \n",
      "                optimization time: 24.190005445480345 \n",
      "                Training Error: 97.31997065306176  \n",
      "                training MAPE: 23.426920283894937\n",
      "                \n",
      "Combination 43/108:\n"
     ]
    },
    {
     "name": "stderr",
     "output_type": "stream",
     "text": [
      "Hyperparameter Search:  40%|███▉      | 43/108 [26:53<1:33:10, 86.00s/it]"
     ]
    },
    {
     "name": "stdout",
     "output_type": "stream",
     "text": [
      "\n",
      "                number of layers: 2  \n",
      "                number of neurons: [128, 64] \n",
      "                activation function: relu\n",
      "                initialization_mode: he \n",
      "                Lambda: 0.01  \n",
      "                optimization solver: L-BFGS-B optimizer \n",
      "                number of iterations: 34.8 \n",
      "                optimization time: 11.541596174240112 \n",
      "                Training Error: 102.53855460873498  \n",
      "                training MAPE: 23.665043530540324\n",
      "                \n",
      "Combination 44/108:\n"
     ]
    },
    {
     "name": "stderr",
     "output_type": "stream",
     "text": [
      "Hyperparameter Search:  41%|████      | 44/108 [28:24<1:33:26, 87.60s/it]"
     ]
    },
    {
     "name": "stdout",
     "output_type": "stream",
     "text": [
      "\n",
      "                number of layers: 2  \n",
      "                number of neurons: [128, 64] \n",
      "                activation function: relu\n",
      "                initialization_mode: xavier \n",
      "                Lambda: 0.01  \n",
      "                optimization solver: L-BFGS-B optimizer \n",
      "                number of iterations: 43.2 \n",
      "                optimization time: 17.95778694152832 \n",
      "                Training Error: 98.99427187779837  \n",
      "                training MAPE: 23.324794897582347\n",
      "                \n",
      "Combination 45/108:\n"
     ]
    },
    {
     "name": "stderr",
     "output_type": "stream",
     "text": [
      "Hyperparameter Search:  42%|████▏     | 45/108 [30:53<1:51:15, 105.95s/it]"
     ]
    },
    {
     "name": "stdout",
     "output_type": "stream",
     "text": [
      "\n",
      "                number of layers: 2  \n",
      "                number of neurons: [128, 64] \n",
      "                activation function: tanh\n",
      "                initialization_mode: he \n",
      "                Lambda: 0.01  \n",
      "                optimization solver: L-BFGS-B optimizer \n",
      "                number of iterations: 107.6 \n",
      "                optimization time: 29.488853788375856 \n",
      "                Training Error: 99.07434357953122  \n",
      "                training MAPE: 22.93256845813524\n",
      "                \n",
      "Combination 46/108:\n"
     ]
    },
    {
     "name": "stderr",
     "output_type": "stream",
     "text": [
      "Hyperparameter Search:  43%|████▎     | 46/108 [32:27<1:45:58, 102.55s/it]"
     ]
    },
    {
     "name": "stdout",
     "output_type": "stream",
     "text": [
      "\n",
      "                number of layers: 2  \n",
      "                number of neurons: [128, 64] \n",
      "                activation function: tanh\n",
      "                initialization_mode: xavier \n",
      "                Lambda: 0.01  \n",
      "                optimization solver: L-BFGS-B optimizer \n",
      "                number of iterations: 71.2 \n",
      "                optimization time: 18.619841718673705 \n",
      "                Training Error: 99.73242184049012  \n",
      "                training MAPE: 23.248813236813614\n",
      "                \n",
      "Combination 47/108:\n"
     ]
    },
    {
     "name": "stderr",
     "output_type": "stream",
     "text": [
      "Hyperparameter Search:  44%|████▎     | 47/108 [34:37<1:52:41, 110.85s/it]"
     ]
    },
    {
     "name": "stdout",
     "output_type": "stream",
     "text": [
      "\n",
      "                number of layers: 2  \n",
      "                number of neurons: [128, 64] \n",
      "                activation function: swish\n",
      "                initialization_mode: he \n",
      "                Lambda: 0.01  \n",
      "                optimization solver: L-BFGS-B optimizer \n",
      "                number of iterations: 59.2 \n",
      "                optimization time: 25.68838996887207 \n",
      "                Training Error: 100.64436460311893  \n",
      "                training MAPE: 23.25086429683338\n",
      "                \n",
      "Combination 48/108:\n"
     ]
    },
    {
     "name": "stderr",
     "output_type": "stream",
     "text": [
      "Hyperparameter Search:  44%|████▍     | 48/108 [36:38<1:53:45, 113.77s/it]"
     ]
    },
    {
     "name": "stdout",
     "output_type": "stream",
     "text": [
      "\n",
      "                number of layers: 2  \n",
      "                number of neurons: [128, 64] \n",
      "                activation function: swish\n",
      "                initialization_mode: xavier \n",
      "                Lambda: 0.01  \n",
      "                optimization solver: L-BFGS-B optimizer \n",
      "                number of iterations: 50.8 \n",
      "                optimization time: 23.799257135391237 \n",
      "                Training Error: 98.47881844748464  \n",
      "                training MAPE: 23.26136536988831\n",
      "                \n",
      "Combination 49/108:\n"
     ]
    },
    {
     "name": "stderr",
     "output_type": "stream",
     "text": [
      "Hyperparameter Search:  45%|████▌     | 49/108 [38:32<1:51:48, 113.70s/it]"
     ]
    },
    {
     "name": "stdout",
     "output_type": "stream",
     "text": [
      "\n",
      "                number of layers: 2  \n",
      "                number of neurons: [128, 64] \n",
      "                activation function: relu\n",
      "                initialization_mode: he \n",
      "                Lambda: 0.1  \n",
      "                optimization solver: L-BFGS-B optimizer \n",
      "                number of iterations: 53.8 \n",
      "                optimization time: 22.468418884277344 \n",
      "                Training Error: 120.90857186806622  \n",
      "                training MAPE: 23.51454306618833\n",
      "                \n",
      "Combination 50/108:\n"
     ]
    },
    {
     "name": "stderr",
     "output_type": "stream",
     "text": [
      "Hyperparameter Search:  46%|████▋     | 50/108 [40:25<1:49:58, 113.77s/it]"
     ]
    },
    {
     "name": "stdout",
     "output_type": "stream",
     "text": [
      "\n",
      "                number of layers: 2  \n",
      "                number of neurons: [128, 64] \n",
      "                activation function: relu\n",
      "                initialization_mode: xavier \n",
      "                Lambda: 0.1  \n",
      "                optimization solver: L-BFGS-B optimizer \n",
      "                number of iterations: 70.0 \n",
      "                optimization time: 22.513780784606933 \n",
      "                Training Error: 105.6301305144711  \n",
      "                training MAPE: 23.304695694405577\n",
      "                \n",
      "Combination 51/108:\n"
     ]
    },
    {
     "name": "stderr",
     "output_type": "stream",
     "text": [
      "Hyperparameter Search:  47%|████▋     | 51/108 [43:33<2:08:57, 135.74s/it]"
     ]
    },
    {
     "name": "stdout",
     "output_type": "stream",
     "text": [
      "\n",
      "                number of layers: 2  \n",
      "                number of neurons: [128, 64] \n",
      "                activation function: tanh\n",
      "                initialization_mode: he \n",
      "                Lambda: 0.1  \n",
      "                optimization solver: L-BFGS-B optimizer \n",
      "                number of iterations: 112.4 \n",
      "                optimization time: 37.11629548072815 \n",
      "                Training Error: 112.10420123022895  \n",
      "                training MAPE: 23.35022016165634\n",
      "                \n",
      "Combination 52/108:\n"
     ]
    },
    {
     "name": "stderr",
     "output_type": "stream",
     "text": [
      "Hyperparameter Search:  48%|████▊     | 52/108 [46:16<2:14:29, 144.10s/it]"
     ]
    },
    {
     "name": "stdout",
     "output_type": "stream",
     "text": [
      "\n",
      "                number of layers: 2  \n",
      "                number of neurons: [128, 64] \n",
      "                activation function: tanh\n",
      "                initialization_mode: xavier \n",
      "                Lambda: 0.1  \n",
      "                optimization solver: L-BFGS-B optimizer \n",
      "                number of iterations: 112.6 \n",
      "                optimization time: 32.4129195690155 \n",
      "                Training Error: 105.66267139813957  \n",
      "                training MAPE: 23.3289331191582\n",
      "                \n",
      "Combination 53/108:\n"
     ]
    },
    {
     "name": "stderr",
     "output_type": "stream",
     "text": [
      "Hyperparameter Search:  49%|████▉     | 53/108 [50:59<2:50:13, 185.70s/it]"
     ]
    },
    {
     "name": "stdout",
     "output_type": "stream",
     "text": [
      "\n",
      "                number of layers: 2  \n",
      "                number of neurons: [128, 64] \n",
      "                activation function: swish\n",
      "                initialization_mode: he \n",
      "                Lambda: 0.1  \n",
      "                optimization solver: L-BFGS-B optimizer \n",
      "                number of iterations: 116.0 \n",
      "                optimization time: 56.25910000801086 \n",
      "                Training Error: 104.67699317391006  \n",
      "                training MAPE: 23.28025163601362\n",
      "                \n",
      "Combination 54/108:\n"
     ]
    },
    {
     "name": "stderr",
     "output_type": "stream",
     "text": [
      "Hyperparameter Search:  50%|█████     | 54/108 [53:47<2:42:22, 180.42s/it]"
     ]
    },
    {
     "name": "stdout",
     "output_type": "stream",
     "text": [
      "\n",
      "                number of layers: 2  \n",
      "                number of neurons: [128, 64] \n",
      "                activation function: swish\n",
      "                initialization_mode: xavier \n",
      "                Lambda: 0.1  \n",
      "                optimization solver: L-BFGS-B optimizer \n",
      "                number of iterations: 63.0 \n",
      "                optimization time: 33.34971199035645 \n",
      "                Training Error: 105.69077304735686  \n",
      "                training MAPE: 23.261501308790535\n",
      "                \n",
      "Combination 55/108:\n"
     ]
    },
    {
     "name": "stderr",
     "output_type": "stream",
     "text": [
      "Hyperparameter Search:  51%|█████     | 55/108 [54:16<1:59:20, 135.11s/it]"
     ]
    },
    {
     "name": "stdout",
     "output_type": "stream",
     "text": [
      "\n",
      "                number of layers: 3  \n",
      "                number of neurons: [64, 32, 32] \n",
      "                activation function: relu\n",
      "                initialization_mode: he \n",
      "                Lambda: 0.001  \n",
      "                optimization solver: L-BFGS-B optimizer \n",
      "                number of iterations: 44.2 \n",
      "                optimization time: 5.765715885162353 \n",
      "                Training Error: 97.50115538945721  \n",
      "                training MAPE: 23.345068025566363\n",
      "                \n",
      "Combination 56/108:\n"
     ]
    },
    {
     "name": "stderr",
     "output_type": "stream",
     "text": [
      "Hyperparameter Search:  52%|█████▏    | 56/108 [54:49<1:30:28, 104.39s/it]"
     ]
    },
    {
     "name": "stdout",
     "output_type": "stream",
     "text": [
      "\n",
      "                number of layers: 3  \n",
      "                number of neurons: [64, 32, 32] \n",
      "                activation function: relu\n",
      "                initialization_mode: xavier \n",
      "                Lambda: 0.001  \n",
      "                optimization solver: L-BFGS-B optimizer \n",
      "                number of iterations: 44.8 \n",
      "                optimization time: 6.405642032623291 \n",
      "                Training Error: 97.1859937850844  \n",
      "                training MAPE: 23.307903259236216\n",
      "                \n",
      "Combination 57/108:\n"
     ]
    },
    {
     "name": "stderr",
     "output_type": "stream",
     "text": [
      "Hyperparameter Search:  53%|█████▎    | 57/108 [55:23<1:10:39, 83.12s/it]"
     ]
    },
    {
     "name": "stdout",
     "output_type": "stream",
     "text": [
      "\n",
      "                number of layers: 3  \n",
      "                number of neurons: [64, 32, 32] \n",
      "                activation function: tanh\n",
      "                initialization_mode: he \n",
      "                Lambda: 0.001  \n",
      "                optimization solver: L-BFGS-B optimizer \n",
      "                number of iterations: 65.8 \n",
      "                optimization time: 6.53770227432251 \n",
      "                Training Error: 97.22812862111375  \n",
      "                training MAPE: 23.343624880805162\n",
      "                \n",
      "Combination 58/108:\n"
     ]
    },
    {
     "name": "stderr",
     "output_type": "stream",
     "text": [
      "Hyperparameter Search:  54%|█████▎    | 58/108 [55:51<55:34, 66.68s/it]"
     ]
    },
    {
     "name": "stdout",
     "output_type": "stream",
     "text": [
      "\n",
      "                number of layers: 3  \n",
      "                number of neurons: [64, 32, 32] \n",
      "                activation function: tanh\n",
      "                initialization_mode: xavier \n",
      "                Lambda: 0.001  \n",
      "                optimization solver: L-BFGS-B optimizer \n",
      "                number of iterations: 60.0 \n",
      "                optimization time: 5.496720981597901 \n",
      "                Training Error: 97.95660985155867  \n",
      "                training MAPE: 23.30054961724411\n",
      "                \n",
      "Combination 59/108:\n"
     ]
    },
    {
     "name": "stderr",
     "output_type": "stream",
     "text": [
      "Hyperparameter Search:  55%|█████▍    | 59/108 [56:40<50:05, 61.33s/it]"
     ]
    },
    {
     "name": "stdout",
     "output_type": "stream",
     "text": [
      "\n",
      "                number of layers: 3  \n",
      "                number of neurons: [64, 32, 32] \n",
      "                activation function: swish\n",
      "                initialization_mode: he \n",
      "                Lambda: 0.001  \n",
      "                optimization solver: L-BFGS-B optimizer \n",
      "                number of iterations: 41.8 \n",
      "                optimization time: 9.604424619674683 \n",
      "                Training Error: 98.74246580566512  \n",
      "                training MAPE: 23.45005534978401\n",
      "                \n",
      "Combination 60/108:\n"
     ]
    },
    {
     "name": "stderr",
     "output_type": "stream",
     "text": [
      "Hyperparameter Search:  56%|█████▌    | 60/108 [57:30<46:27, 58.07s/it]"
     ]
    },
    {
     "name": "stdout",
     "output_type": "stream",
     "text": [
      "\n",
      "                number of layers: 3  \n",
      "                number of neurons: [64, 32, 32] \n",
      "                activation function: swish\n",
      "                initialization_mode: xavier \n",
      "                Lambda: 0.001  \n",
      "                optimization solver: L-BFGS-B optimizer \n",
      "                number of iterations: 46.4 \n",
      "                optimization time: 9.921264123916625 \n",
      "                Training Error: 97.64704927074041  \n",
      "                training MAPE: 23.344620977242922\n",
      "                \n",
      "Combination 61/108:\n"
     ]
    },
    {
     "name": "stderr",
     "output_type": "stream",
     "text": [
      "Hyperparameter Search:  56%|█████▋    | 61/108 [58:02<39:17, 50.15s/it]"
     ]
    },
    {
     "name": "stdout",
     "output_type": "stream",
     "text": [
      "\n",
      "                number of layers: 3  \n",
      "                number of neurons: [64, 32, 32] \n",
      "                activation function: relu\n",
      "                initialization_mode: he \n",
      "                Lambda: 0.01  \n",
      "                optimization solver: L-BFGS-B optimizer \n",
      "                number of iterations: 36.4 \n",
      "                optimization time: 6.189388942718506 \n",
      "                Training Error: 100.59317660897469  \n",
      "                training MAPE: 23.322583707980996\n",
      "                \n",
      "Combination 62/108:\n"
     ]
    },
    {
     "name": "stderr",
     "output_type": "stream",
     "text": [
      "Hyperparameter Search:  57%|█████▋    | 62/108 [58:30<33:22, 43.53s/it]"
     ]
    },
    {
     "name": "stdout",
     "output_type": "stream",
     "text": [
      "\n",
      "                number of layers: 3  \n",
      "                number of neurons: [64, 32, 32] \n",
      "                activation function: relu\n",
      "                initialization_mode: xavier \n",
      "                Lambda: 0.01  \n",
      "                optimization solver: L-BFGS-B optimizer \n",
      "                number of iterations: 39.4 \n",
      "                optimization time: 5.489317560195923 \n",
      "                Training Error: 98.78956942869799  \n",
      "                training MAPE: 23.366659278131625\n",
      "                \n",
      "Combination 63/108:\n"
     ]
    },
    {
     "name": "stderr",
     "output_type": "stream",
     "text": [
      "Hyperparameter Search:  58%|█████▊    | 63/108 [59:06<30:57, 41.28s/it]"
     ]
    },
    {
     "name": "stdout",
     "output_type": "stream",
     "text": [
      "\n",
      "                number of layers: 3  \n",
      "                number of neurons: [64, 32, 32] \n",
      "                activation function: tanh\n",
      "                initialization_mode: he \n",
      "                Lambda: 0.01  \n",
      "                optimization solver: L-BFGS-B optimizer \n",
      "                number of iterations: 72.0 \n",
      "                optimization time: 7.067747402191162 \n",
      "                Training Error: 102.72787905378443  \n",
      "                training MAPE: 23.260835030071654\n",
      "                \n",
      "Combination 64/108:\n"
     ]
    },
    {
     "name": "stderr",
     "output_type": "stream",
     "text": [
      "Hyperparameter Search:  59%|█████▉    | 64/108 [59:47<30:11, 41.16s/it]"
     ]
    },
    {
     "name": "stdout",
     "output_type": "stream",
     "text": [
      "\n",
      "                number of layers: 3  \n",
      "                number of neurons: [64, 32, 32] \n",
      "                activation function: tanh\n",
      "                initialization_mode: xavier \n",
      "                Lambda: 0.01  \n",
      "                optimization solver: L-BFGS-B optimizer \n",
      "                number of iterations: 70.6 \n",
      "                optimization time: 8.0014178276062 \n",
      "                Training Error: 103.61235405687735  \n",
      "                training MAPE: 23.473624741333527\n",
      "                \n",
      "Combination 65/108:\n"
     ]
    },
    {
     "name": "stderr",
     "output_type": "stream",
     "text": [
      "Hyperparameter Search:  60%|██████    | 65/108 [1:00:35<31:03, 43.33s/it]"
     ]
    },
    {
     "name": "stdout",
     "output_type": "stream",
     "text": [
      "\n",
      "                number of layers: 3  \n",
      "                number of neurons: [64, 32, 32] \n",
      "                activation function: swish\n",
      "                initialization_mode: he \n",
      "                Lambda: 0.01  \n",
      "                optimization solver: L-BFGS-B optimizer \n",
      "                number of iterations: 42.8 \n",
      "                optimization time: 9.529755926132202 \n",
      "                Training Error: 100.45770326468644  \n",
      "                training MAPE: 23.419229497047212\n",
      "                \n",
      "Combination 66/108:\n"
     ]
    },
    {
     "name": "stderr",
     "output_type": "stream",
     "text": [
      "Hyperparameter Search:  61%|██████    | 66/108 [1:01:21<30:44, 43.92s/it]"
     ]
    },
    {
     "name": "stdout",
     "output_type": "stream",
     "text": [
      "\n",
      "                number of layers: 3  \n",
      "                number of neurons: [64, 32, 32] \n",
      "                activation function: swish\n",
      "                initialization_mode: xavier \n",
      "                Lambda: 0.01  \n",
      "                optimization solver: L-BFGS-B optimizer \n",
      "                number of iterations: 34.2 \n",
      "                optimization time: 8.889710330963135 \n",
      "                Training Error: 100.08274511479871  \n",
      "                training MAPE: 23.467484333813363\n",
      "                \n",
      "Combination 67/108:\n"
     ]
    },
    {
     "name": "stderr",
     "output_type": "stream",
     "text": [
      "Hyperparameter Search:  62%|██████▏   | 67/108 [1:02:04<29:59, 43.90s/it]"
     ]
    },
    {
     "name": "stdout",
     "output_type": "stream",
     "text": [
      "\n",
      "                number of layers: 3  \n",
      "                number of neurons: [64, 32, 32] \n",
      "                activation function: relu\n",
      "                initialization_mode: he \n",
      "                Lambda: 0.1  \n",
      "                optimization solver: L-BFGS-B optimizer \n",
      "                number of iterations: 54.2 \n",
      "                optimization time: 8.623401260375976 \n",
      "                Training Error: 118.59518016626377  \n",
      "                training MAPE: 23.635801151931\n",
      "                \n",
      "Combination 68/108:\n"
     ]
    },
    {
     "name": "stderr",
     "output_type": "stream",
     "text": [
      "Hyperparameter Search:  63%|██████▎   | 68/108 [1:02:40<27:42, 41.56s/it]"
     ]
    },
    {
     "name": "stdout",
     "output_type": "stream",
     "text": [
      "\n",
      "                number of layers: 3  \n",
      "                number of neurons: [64, 32, 32] \n",
      "                activation function: relu\n",
      "                initialization_mode: xavier \n",
      "                Lambda: 0.1  \n",
      "                optimization solver: L-BFGS-B optimizer \n",
      "                number of iterations: 39.8 \n",
      "                optimization time: 7.093159914016724 \n",
      "                Training Error: 109.96359873388758  \n",
      "                training MAPE: 23.37895219250959\n",
      "                \n",
      "Combination 69/108:\n"
     ]
    },
    {
     "name": "stderr",
     "output_type": "stream",
     "text": [
      "Hyperparameter Search:  64%|██████▍   | 69/108 [1:03:50<32:23, 49.82s/it]"
     ]
    },
    {
     "name": "stdout",
     "output_type": "stream",
     "text": [
      "\n",
      "                number of layers: 3  \n",
      "                number of neurons: [64, 32, 32] \n",
      "                activation function: tanh\n",
      "                initialization_mode: he \n",
      "                Lambda: 0.1  \n",
      "                optimization solver: L-BFGS-B optimizer \n",
      "                number of iterations: 116.6 \n",
      "                optimization time: 13.670874977111817 \n",
      "                Training Error: 113.54691801463994  \n",
      "                training MAPE: 23.463047371304196\n",
      "                \n",
      "Combination 70/108:\n"
     ]
    },
    {
     "name": "stderr",
     "output_type": "stream",
     "text": [
      "Hyperparameter Search:  65%|██████▍   | 70/108 [1:05:00<35:29, 56.04s/it]"
     ]
    },
    {
     "name": "stdout",
     "output_type": "stream",
     "text": [
      "\n",
      "                number of layers: 3  \n",
      "                number of neurons: [64, 32, 32] \n",
      "                activation function: tanh\n",
      "                initialization_mode: xavier \n",
      "                Lambda: 0.1  \n",
      "                optimization solver: L-BFGS-B optimizer \n",
      "                number of iterations: 108.4 \n",
      "                optimization time: 13.903684329986572 \n",
      "                Training Error: 112.22304337924122  \n",
      "                training MAPE: 23.495120757106545\n",
      "                \n",
      "Combination 71/108:\n"
     ]
    },
    {
     "name": "stderr",
     "output_type": "stream",
     "text": [
      "Hyperparameter Search:  66%|██████▌   | 71/108 [1:05:58<34:49, 56.47s/it]"
     ]
    },
    {
     "name": "stdout",
     "output_type": "stream",
     "text": [
      "\n",
      "                number of layers: 3  \n",
      "                number of neurons: [64, 32, 32] \n",
      "                activation function: swish\n",
      "                initialization_mode: he \n",
      "                Lambda: 0.1  \n",
      "                optimization solver: L-BFGS-B optimizer \n",
      "                number of iterations: 43.6 \n",
      "                optimization time: 11.29757661819458 \n",
      "                Training Error: 119.77991592902929  \n",
      "                training MAPE: 23.399307818994053\n",
      "                \n",
      "Combination 72/108:\n"
     ]
    },
    {
     "name": "stderr",
     "output_type": "stream",
     "text": [
      "Hyperparameter Search:  67%|██████▋   | 72/108 [1:06:59<34:51, 58.09s/it]"
     ]
    },
    {
     "name": "stdout",
     "output_type": "stream",
     "text": [
      "\n",
      "                number of layers: 3  \n",
      "                number of neurons: [64, 32, 32] \n",
      "                activation function: swish\n",
      "                initialization_mode: xavier \n",
      "                Lambda: 0.1  \n",
      "                optimization solver: L-BFGS-B optimizer \n",
      "                number of iterations: 43.6 \n",
      "                optimization time: 12.191401481628418 \n",
      "                Training Error: 110.1728342296589  \n",
      "                training MAPE: 23.455675695051767\n",
      "                \n",
      "Combination 73/108:\n"
     ]
    },
    {
     "name": "stderr",
     "output_type": "stream",
     "text": [
      "Hyperparameter Search:  68%|██████▊   | 73/108 [1:08:54<43:46, 75.05s/it]"
     ]
    },
    {
     "name": "stdout",
     "output_type": "stream",
     "text": [
      "\n",
      "                number of layers: 3  \n",
      "                number of neurons: [128, 64, 32] \n",
      "                activation function: relu\n",
      "                initialization_mode: he \n",
      "                Lambda: 0.001  \n",
      "                optimization solver: L-BFGS-B optimizer \n",
      "                number of iterations: 48.6 \n",
      "                optimization time: 22.602844333648683 \n",
      "                Training Error: 97.49304996105268  \n",
      "                training MAPE: 23.291430737116265\n",
      "                \n",
      "Combination 74/108:\n"
     ]
    },
    {
     "name": "stderr",
     "output_type": "stream",
     "text": [
      "Hyperparameter Search:  69%|██████▊   | 74/108 [1:10:27<45:33, 80.38s/it]"
     ]
    },
    {
     "name": "stdout",
     "output_type": "stream",
     "text": [
      "\n",
      "                number of layers: 3  \n",
      "                number of neurons: [128, 64, 32] \n",
      "                activation function: relu\n",
      "                initialization_mode: xavier \n",
      "                Lambda: 0.001  \n",
      "                optimization solver: L-BFGS-B optimizer \n",
      "                number of iterations: 42.6 \n",
      "                optimization time: 18.297037744522093 \n",
      "                Training Error: 97.27436053949842  \n",
      "                training MAPE: 23.30100618587193\n",
      "                \n",
      "Combination 75/108:\n"
     ]
    },
    {
     "name": "stderr",
     "output_type": "stream",
     "text": [
      "Hyperparameter Search:  69%|██████▉   | 75/108 [1:12:33<51:47, 94.17s/it]"
     ]
    },
    {
     "name": "stdout",
     "output_type": "stream",
     "text": [
      "\n",
      "                number of layers: 3  \n",
      "                number of neurons: [128, 64, 32] \n",
      "                activation function: tanh\n",
      "                initialization_mode: he \n",
      "                Lambda: 0.001  \n",
      "                optimization solver: L-BFGS-B optimizer \n",
      "                number of iterations: 81.2 \n",
      "                optimization time: 24.95558633804321 \n",
      "                Training Error: 96.97056217825302  \n",
      "                training MAPE: 23.087859514148146\n",
      "                \n",
      "Combination 76/108:\n"
     ]
    },
    {
     "name": "stderr",
     "output_type": "stream",
     "text": [
      "Hyperparameter Search:  70%|███████   | 76/108 [1:14:17<51:41, 96.92s/it]"
     ]
    },
    {
     "name": "stdout",
     "output_type": "stream",
     "text": [
      "\n",
      "                number of layers: 3  \n",
      "                number of neurons: [128, 64, 32] \n",
      "                activation function: tanh\n",
      "                initialization_mode: xavier \n",
      "                Lambda: 0.001  \n",
      "                optimization solver: L-BFGS-B optimizer \n",
      "                number of iterations: 61.4 \n",
      "                optimization time: 20.363081789016725 \n",
      "                Training Error: 97.62863787558236  \n",
      "                training MAPE: 23.26315097185209\n",
      "                \n",
      "Combination 77/108:\n"
     ]
    },
    {
     "name": "stderr",
     "output_type": "stream",
     "text": [
      "Hyperparameter Search:  71%|███████▏  | 77/108 [1:16:36<56:39, 109.67s/it]"
     ]
    },
    {
     "name": "stdout",
     "output_type": "stream",
     "text": [
      "\n",
      "                number of layers: 3  \n",
      "                number of neurons: [128, 64, 32] \n",
      "                activation function: swish\n",
      "                initialization_mode: he \n",
      "                Lambda: 0.001  \n",
      "                optimization solver: L-BFGS-B optimizer \n",
      "                number of iterations: 45.2 \n",
      "                optimization time: 27.54936456680298 \n",
      "                Training Error: 98.4073729356679  \n",
      "                training MAPE: 23.403874058096342\n",
      "                \n",
      "Combination 78/108:\n"
     ]
    },
    {
     "name": "stderr",
     "output_type": "stream",
     "text": [
      "Hyperparameter Search:  72%|███████▏  | 78/108 [1:18:48<58:10, 116.35s/it]"
     ]
    },
    {
     "name": "stdout",
     "output_type": "stream",
     "text": [
      "\n",
      "                number of layers: 3  \n",
      "                number of neurons: [128, 64, 32] \n",
      "                activation function: swish\n",
      "                initialization_mode: xavier \n",
      "                Lambda: 0.001  \n",
      "                optimization solver: L-BFGS-B optimizer \n",
      "                number of iterations: 37.2 \n",
      "                optimization time: 26.035380268096922 \n",
      "                Training Error: 98.74848384394177  \n",
      "                training MAPE: 23.508519103533878\n",
      "                \n",
      "Combination 79/108:\n"
     ]
    },
    {
     "name": "stderr",
     "output_type": "stream",
     "text": [
      "Hyperparameter Search:  73%|███████▎  | 79/108 [1:20:14<51:52, 107.33s/it]"
     ]
    },
    {
     "name": "stdout",
     "output_type": "stream",
     "text": [
      "\n",
      "                number of layers: 3  \n",
      "                number of neurons: [128, 64, 32] \n",
      "                activation function: relu\n",
      "                initialization_mode: he \n",
      "                Lambda: 0.01  \n",
      "                optimization solver: L-BFGS-B optimizer \n",
      "                number of iterations: 35.8 \n",
      "                optimization time: 16.962741756439208 \n",
      "                Training Error: 102.41766759772868  \n",
      "                training MAPE: 23.36202855611494\n",
      "                \n",
      "Combination 80/108:\n"
     ]
    },
    {
     "name": "stderr",
     "output_type": "stream",
     "text": [
      "Hyperparameter Search:  74%|███████▍  | 80/108 [1:22:00<49:51, 106.83s/it]"
     ]
    },
    {
     "name": "stdout",
     "output_type": "stream",
     "text": [
      "\n",
      "                number of layers: 3  \n",
      "                number of neurons: [128, 64, 32] \n",
      "                activation function: relu\n",
      "                initialization_mode: xavier \n",
      "                Lambda: 0.01  \n",
      "                optimization solver: L-BFGS-B optimizer \n",
      "                number of iterations: 41.2 \n",
      "                optimization time: 20.775035238265993 \n",
      "                Training Error: 99.07610881366621  \n",
      "                training MAPE: 23.262949694518767\n",
      "                \n",
      "Combination 81/108:\n"
     ]
    },
    {
     "name": "stderr",
     "output_type": "stream",
     "text": [
      "Hyperparameter Search:  75%|███████▌  | 81/108 [1:24:27<53:28, 118.83s/it]"
     ]
    },
    {
     "name": "stdout",
     "output_type": "stream",
     "text": [
      "\n",
      "                number of layers: 3  \n",
      "                number of neurons: [128, 64, 32] \n",
      "                activation function: tanh\n",
      "                initialization_mode: he \n",
      "                Lambda: 0.01  \n",
      "                optimization solver: L-BFGS-B optimizer \n",
      "                number of iterations: 88.6 \n",
      "                optimization time: 28.961943054199217 \n",
      "                Training Error: 103.21609465262804  \n",
      "                training MAPE: 23.2251778330385\n",
      "                \n",
      "Combination 82/108:\n"
     ]
    },
    {
     "name": "stderr",
     "output_type": "stream",
     "text": [
      "Hyperparameter Search:  76%|███████▌  | 82/108 [1:26:33<52:30, 121.19s/it]"
     ]
    },
    {
     "name": "stdout",
     "output_type": "stream",
     "text": [
      "\n",
      "                number of layers: 3  \n",
      "                number of neurons: [128, 64, 32] \n",
      "                activation function: tanh\n",
      "                initialization_mode: xavier \n",
      "                Lambda: 0.01  \n",
      "                optimization solver: L-BFGS-B optimizer \n",
      "                number of iterations: 69.8 \n",
      "                optimization time: 24.984127950668334 \n",
      "                Training Error: 103.53053396096769  \n",
      "                training MAPE: 23.349354997601008\n",
      "                \n",
      "Combination 83/108:\n"
     ]
    },
    {
     "name": "stderr",
     "output_type": "stream",
     "text": [
      "Hyperparameter Search:  77%|███████▋  | 83/108 [1:29:17<55:48, 133.95s/it]"
     ]
    },
    {
     "name": "stdout",
     "output_type": "stream",
     "text": [
      "\n",
      "                number of layers: 3  \n",
      "                number of neurons: [128, 64, 32] \n",
      "                activation function: swish\n",
      "                initialization_mode: he \n",
      "                Lambda: 0.01  \n",
      "                optimization solver: L-BFGS-B optimizer \n",
      "                number of iterations: 51.0 \n",
      "                optimization time: 32.42686543464661 \n",
      "                Training Error: 102.1212261995033  \n",
      "                training MAPE: 23.392407459418312\n",
      "                \n",
      "Combination 84/108:\n"
     ]
    },
    {
     "name": "stderr",
     "output_type": "stream",
     "text": [
      "Hyperparameter Search:  78%|███████▊  | 84/108 [1:31:43<54:59, 137.47s/it]"
     ]
    },
    {
     "name": "stdout",
     "output_type": "stream",
     "text": [
      "\n",
      "                number of layers: 3  \n",
      "                number of neurons: [128, 64, 32] \n",
      "                activation function: swish\n",
      "                initialization_mode: xavier \n",
      "                Lambda: 0.01  \n",
      "                optimization solver: L-BFGS-B optimizer \n",
      "                number of iterations: 39.0 \n",
      "                optimization time: 28.74640374183655 \n",
      "                Training Error: 100.97627962723166  \n",
      "                training MAPE: 23.584208020042645\n",
      "                \n",
      "Combination 85/108:\n"
     ]
    },
    {
     "name": "stderr",
     "output_type": "stream",
     "text": [
      "Hyperparameter Search:  79%|███████▊  | 85/108 [1:34:19<54:52, 143.17s/it]"
     ]
    },
    {
     "name": "stdout",
     "output_type": "stream",
     "text": [
      "\n",
      "                number of layers: 3  \n",
      "                number of neurons: [128, 64, 32] \n",
      "                activation function: relu\n",
      "                initialization_mode: he \n",
      "                Lambda: 0.1  \n",
      "                optimization solver: L-BFGS-B optimizer \n",
      "                number of iterations: 57.2 \n",
      "                optimization time: 31.00759563446045 \n",
      "                Training Error: 132.1433050048964  \n",
      "                training MAPE: 23.366358463884342\n",
      "                \n",
      "Combination 86/108:\n"
     ]
    },
    {
     "name": "stderr",
     "output_type": "stream",
     "text": [
      "Hyperparameter Search:  80%|███████▉  | 86/108 [1:36:09<48:48, 133.12s/it]"
     ]
    },
    {
     "name": "stdout",
     "output_type": "stream",
     "text": [
      "\n",
      "                number of layers: 3  \n",
      "                number of neurons: [128, 64, 32] \n",
      "                activation function: relu\n",
      "                initialization_mode: xavier \n",
      "                Lambda: 0.1  \n",
      "                optimization solver: L-BFGS-B optimizer \n",
      "                number of iterations: 41.8 \n",
      "                optimization time: 21.620847940444946 \n",
      "                Training Error: 116.39044427940487  \n",
      "                training MAPE: 23.860411294155785\n",
      "                \n",
      "Combination 87/108:\n"
     ]
    },
    {
     "name": "stderr",
     "output_type": "stream",
     "text": [
      "Hyperparameter Search:  81%|████████  | 87/108 [1:39:44<55:10, 157.66s/it]"
     ]
    },
    {
     "name": "stdout",
     "output_type": "stream",
     "text": [
      "\n",
      "                number of layers: 3  \n",
      "                number of neurons: [128, 64, 32] \n",
      "                activation function: tanh\n",
      "                initialization_mode: he \n",
      "                Lambda: 0.1  \n",
      "                optimization solver: L-BFGS-B optimizer \n",
      "                number of iterations: 104.6 \n",
      "                optimization time: 42.601219511032106 \n",
      "                Training Error: 123.7744776865331  \n",
      "                training MAPE: 23.267615171062296\n",
      "                \n",
      "Combination 88/108:\n"
     ]
    },
    {
     "name": "stderr",
     "output_type": "stream",
     "text": [
      "Hyperparameter Search:  81%|████████▏ | 88/108 [1:43:04<56:47, 170.40s/it]"
     ]
    },
    {
     "name": "stdout",
     "output_type": "stream",
     "text": [
      "\n",
      "                number of layers: 3  \n",
      "                number of neurons: [128, 64, 32] \n",
      "                activation function: tanh\n",
      "                initialization_mode: xavier \n",
      "                Lambda: 0.1  \n",
      "                optimization solver: L-BFGS-B optimizer \n",
      "                number of iterations: 105.2 \n",
      "                optimization time: 39.67171564102173 \n",
      "                Training Error: 114.49669048190995  \n",
      "                training MAPE: 23.270017985057713\n",
      "                \n",
      "Combination 89/108:\n"
     ]
    },
    {
     "name": "stderr",
     "output_type": "stream",
     "text": [
      "Hyperparameter Search:  82%|████████▏ | 89/108 [1:45:03<49:05, 155.01s/it]"
     ]
    },
    {
     "name": "stdout",
     "output_type": "stream",
     "text": [
      "\n",
      "                number of layers: 3  \n",
      "                number of neurons: [128, 64, 32] \n",
      "                activation function: swish\n",
      "                initialization_mode: he \n",
      "                Lambda: 0.1  \n",
      "                optimization solver: L-BFGS-B optimizer \n",
      "                number of iterations: 36.4 \n",
      "                optimization time: 23.40836296081543 \n",
      "                Training Error: 145.1648969484274  \n",
      "                training MAPE: 23.412540874909002\n",
      "                \n",
      "Combination 90/108:\n"
     ]
    },
    {
     "name": "stderr",
     "output_type": "stream",
     "text": [
      "Hyperparameter Search:  83%|████████▎ | 90/108 [1:47:54<47:55, 159.76s/it]"
     ]
    },
    {
     "name": "stdout",
     "output_type": "stream",
     "text": [
      "\n",
      "                number of layers: 3  \n",
      "                number of neurons: [128, 64, 32] \n",
      "                activation function: swish\n",
      "                initialization_mode: xavier \n",
      "                Lambda: 0.1  \n",
      "                optimization solver: L-BFGS-B optimizer \n",
      "                number of iterations: 56.8 \n",
      "                optimization time: 33.83609385490418 \n",
      "                Training Error: 110.54189876570013  \n",
      "                training MAPE: 23.42800509456422\n",
      "                \n",
      "Combination 91/108:\n"
     ]
    },
    {
     "name": "stderr",
     "output_type": "stream",
     "text": [
      "Hyperparameter Search:  84%|████████▍ | 91/108 [1:49:27<39:33, 139.63s/it]"
     ]
    },
    {
     "name": "stdout",
     "output_type": "stream",
     "text": [
      "\n",
      "                number of layers: 4  \n",
      "                number of neurons: [128, 64, 32, 16] \n",
      "                activation function: relu\n",
      "                initialization_mode: he \n",
      "                Lambda: 0.001  \n",
      "                optimization solver: L-BFGS-B optimizer \n",
      "                number of iterations: 34.0 \n",
      "                optimization time: 18.257015657424926 \n",
      "                Training Error: 98.57896495458239  \n",
      "                training MAPE: 23.414206978694445\n",
      "                \n",
      "Combination 92/108:\n"
     ]
    },
    {
     "name": "stderr",
     "output_type": "stream",
     "text": [
      "Hyperparameter Search:  85%|████████▌ | 92/108 [1:50:57<33:17, 124.83s/it]"
     ]
    },
    {
     "name": "stdout",
     "output_type": "stream",
     "text": [
      "\n",
      "                number of layers: 4  \n",
      "                number of neurons: [128, 64, 32, 16] \n",
      "                activation function: relu\n",
      "                initialization_mode: xavier \n",
      "                Lambda: 0.001  \n",
      "                optimization solver: L-BFGS-B optimizer \n",
      "                number of iterations: 35.4 \n",
      "                optimization time: 17.807228374481202 \n",
      "                Training Error: 98.2093826290898  \n",
      "                training MAPE: 23.453678288565403\n",
      "                \n",
      "Combination 93/108:\n"
     ]
    },
    {
     "name": "stderr",
     "output_type": "stream",
     "text": [
      "Hyperparameter Search:  86%|████████▌ | 93/108 [1:53:08<31:42, 126.85s/it]"
     ]
    },
    {
     "name": "stdout",
     "output_type": "stream",
     "text": [
      "\n",
      "                number of layers: 4  \n",
      "                number of neurons: [128, 64, 32, 16] \n",
      "                activation function: tanh\n",
      "                initialization_mode: he \n",
      "                Lambda: 0.001  \n",
      "                optimization solver: L-BFGS-B optimizer \n",
      "                number of iterations: 65.0 \n",
      "                optimization time: 25.952093410491944 \n",
      "                Training Error: 99.05262946088783  \n",
      "                training MAPE: 23.34929659053726\n",
      "                \n",
      "Combination 94/108:\n"
     ]
    },
    {
     "name": "stderr",
     "output_type": "stream",
     "text": [
      "Hyperparameter Search:  87%|████████▋ | 94/108 [1:55:23<30:08, 129.16s/it]"
     ]
    },
    {
     "name": "stdout",
     "output_type": "stream",
     "text": [
      "\n",
      "                number of layers: 4  \n",
      "                number of neurons: [128, 64, 32, 16] \n",
      "                activation function: tanh\n",
      "                initialization_mode: xavier \n",
      "                Lambda: 0.001  \n",
      "                optimization solver: L-BFGS-B optimizer \n",
      "                number of iterations: 56.6 \n",
      "                optimization time: 26.538820695877074 \n",
      "                Training Error: 102.17630267382415  \n",
      "                training MAPE: 23.833568416387884\n",
      "                \n",
      "Combination 95/108:\n"
     ]
    },
    {
     "name": "stderr",
     "output_type": "stream",
     "text": [
      "Hyperparameter Search:  88%|████████▊ | 95/108 [1:58:21<31:09, 143.85s/it]"
     ]
    },
    {
     "name": "stdout",
     "output_type": "stream",
     "text": [
      "\n",
      "                number of layers: 4  \n",
      "                number of neurons: [128, 64, 32, 16] \n",
      "                activation function: swish\n",
      "                initialization_mode: he \n",
      "                Lambda: 0.001  \n",
      "                optimization solver: L-BFGS-B optimizer \n",
      "                number of iterations: 51.4 \n",
      "                optimization time: 35.28925762176514 \n",
      "                Training Error: 97.93119759385728  \n",
      "                training MAPE: 23.30622674729919\n",
      "                \n",
      "Combination 96/108:\n"
     ]
    },
    {
     "name": "stderr",
     "output_type": "stream",
     "text": [
      "Hyperparameter Search:  89%|████████▉ | 96/108 [1:59:59<26:00, 130.05s/it]"
     ]
    },
    {
     "name": "stdout",
     "output_type": "stream",
     "text": [
      "\n",
      "                number of layers: 4  \n",
      "                number of neurons: [128, 64, 32, 16] \n",
      "                activation function: swish\n",
      "                initialization_mode: xavier \n",
      "                Lambda: 0.001  \n",
      "                optimization solver: L-BFGS-B optimizer \n",
      "                number of iterations: 28.6 \n",
      "                optimization time: 19.098648881912233 \n",
      "                Training Error: 98.37734484681731  \n",
      "                training MAPE: 23.424897636935412\n",
      "                \n",
      "Combination 97/108:\n"
     ]
    },
    {
     "name": "stderr",
     "output_type": "stream",
     "text": [
      "Hyperparameter Search:  90%|████████▉ | 97/108 [2:01:51<22:51, 124.71s/it]"
     ]
    },
    {
     "name": "stdout",
     "output_type": "stream",
     "text": [
      "\n",
      "                number of layers: 4  \n",
      "                number of neurons: [128, 64, 32, 16] \n",
      "                activation function: relu\n",
      "                initialization_mode: he \n",
      "                Lambda: 0.01  \n",
      "                optimization solver: L-BFGS-B optimizer \n",
      "                number of iterations: 41.0 \n",
      "                optimization time: 22.11666884422302 \n",
      "                Training Error: 102.10166720109439  \n",
      "                training MAPE: 23.342151038737786\n",
      "                \n",
      "Combination 98/108:\n"
     ]
    },
    {
     "name": "stderr",
     "output_type": "stream",
     "text": [
      "Hyperparameter Search:  91%|█████████ | 98/108 [2:03:50<20:29, 122.96s/it]"
     ]
    },
    {
     "name": "stdout",
     "output_type": "stream",
     "text": [
      "\n",
      "                number of layers: 4  \n",
      "                number of neurons: [128, 64, 32, 16] \n",
      "                activation function: relu\n",
      "                initialization_mode: xavier \n",
      "                Lambda: 0.01  \n",
      "                optimization solver: L-BFGS-B optimizer \n",
      "                number of iterations: 43.2 \n",
      "                optimization time: 23.470262384414674 \n",
      "                Training Error: 99.1803831115216  \n",
      "                training MAPE: 23.30169247633216\n",
      "                \n",
      "Combination 99/108:\n"
     ]
    },
    {
     "name": "stderr",
     "output_type": "stream",
     "text": [
      "Hyperparameter Search:  92%|█████████▏| 99/108 [2:05:17<16:50, 112.23s/it]"
     ]
    },
    {
     "name": "stdout",
     "output_type": "stream",
     "text": [
      "\n",
      "                number of layers: 4  \n",
      "                number of neurons: [128, 64, 32, 16] \n",
      "                activation function: tanh\n",
      "                initialization_mode: he \n",
      "                Lambda: 0.01  \n",
      "                optimization solver: L-BFGS-B optimizer \n",
      "                number of iterations: 38.2 \n",
      "                optimization time: 17.10572757720947 \n",
      "                Training Error: 121.9763299023811  \n",
      "                training MAPE: 24.084452229432426\n",
      "                \n",
      "Combination 100/108:\n"
     ]
    },
    {
     "name": "stderr",
     "output_type": "stream",
     "text": [
      "Hyperparameter Search:  93%|█████████▎| 100/108 [2:07:44<16:20, 122.60s/it]"
     ]
    },
    {
     "name": "stdout",
     "output_type": "stream",
     "text": [
      "\n",
      "                number of layers: 4  \n",
      "                number of neurons: [128, 64, 32, 16] \n",
      "                activation function: tanh\n",
      "                initialization_mode: xavier \n",
      "                Lambda: 0.01  \n",
      "                optimization solver: L-BFGS-B optimizer \n",
      "                number of iterations: 72.0 \n",
      "                optimization time: 29.056123447418212 \n",
      "                Training Error: 112.43923600307713  \n",
      "                training MAPE: 23.757402823698072\n",
      "                \n",
      "Combination 101/108:\n"
     ]
    },
    {
     "name": "stderr",
     "output_type": "stream",
     "text": [
      "Hyperparameter Search:  94%|█████████▎| 101/108 [2:10:35<15:59, 137.11s/it]"
     ]
    },
    {
     "name": "stdout",
     "output_type": "stream",
     "text": [
      "\n",
      "                number of layers: 4  \n",
      "                number of neurons: [128, 64, 32, 16] \n",
      "                activation function: swish\n",
      "                initialization_mode: he \n",
      "                Lambda: 0.01  \n",
      "                optimization solver: L-BFGS-B optimizer \n",
      "                number of iterations: 44.0 \n",
      "                optimization time: 33.78219122886658 \n",
      "                Training Error: 103.36619183130117  \n",
      "                training MAPE: 23.401453843991497\n",
      "                \n",
      "Combination 102/108:\n"
     ]
    },
    {
     "name": "stderr",
     "output_type": "stream",
     "text": [
      "Hyperparameter Search:  94%|█████████▍| 102/108 [2:12:10<12:26, 124.46s/it]"
     ]
    },
    {
     "name": "stdout",
     "output_type": "stream",
     "text": [
      "\n",
      "                number of layers: 4  \n",
      "                number of neurons: [128, 64, 32, 16] \n",
      "                activation function: swish\n",
      "                initialization_mode: xavier \n",
      "                Lambda: 0.01  \n",
      "                optimization solver: L-BFGS-B optimizer \n",
      "                number of iterations: 28.0 \n",
      "                optimization time: 18.635006618499755 \n",
      "                Training Error: 101.05949084753588  \n",
      "                training MAPE: 23.39232573361148\n",
      "                \n",
      "Combination 103/108:\n"
     ]
    },
    {
     "name": "stderr",
     "output_type": "stream",
     "text": [
      "Hyperparameter Search:  95%|█████████▌| 103/108 [2:14:00<09:59, 119.99s/it]"
     ]
    },
    {
     "name": "stdout",
     "output_type": "stream",
     "text": [
      "\n",
      "                number of layers: 4  \n",
      "                number of neurons: [128, 64, 32, 16] \n",
      "                activation function: relu\n",
      "                initialization_mode: he \n",
      "                Lambda: 0.1  \n",
      "                optimization solver: L-BFGS-B optimizer \n",
      "                number of iterations: 37.4 \n",
      "                optimization time: 21.624347496032716 \n",
      "                Training Error: 143.5304531711767  \n",
      "                training MAPE: 23.57852392359457\n",
      "                \n",
      "Combination 104/108:\n"
     ]
    },
    {
     "name": "stderr",
     "output_type": "stream",
     "text": [
      "Hyperparameter Search:  96%|█████████▋| 104/108 [2:15:28<07:21, 110.40s/it]"
     ]
    },
    {
     "name": "stdout",
     "output_type": "stream",
     "text": [
      "\n",
      "                number of layers: 4  \n",
      "                number of neurons: [128, 64, 32, 16] \n",
      "                activation function: relu\n",
      "                initialization_mode: xavier \n",
      "                Lambda: 0.1  \n",
      "                optimization solver: L-BFGS-B optimizer \n",
      "                number of iterations: 33.6 \n",
      "                optimization time: 17.32225556373596 \n",
      "                Training Error: 118.450313514613  \n",
      "                training MAPE: 23.36511968479902\n",
      "                \n",
      "Combination 105/108:\n"
     ]
    },
    {
     "name": "stderr",
     "output_type": "stream",
     "text": [
      "Hyperparameter Search:  97%|█████████▋| 105/108 [2:18:49<06:52, 137.62s/it]"
     ]
    },
    {
     "name": "stdout",
     "output_type": "stream",
     "text": [
      "\n",
      "                number of layers: 4  \n",
      "                number of neurons: [128, 64, 32, 16] \n",
      "                activation function: tanh\n",
      "                initialization_mode: he \n",
      "                Lambda: 0.1  \n",
      "                optimization solver: L-BFGS-B optimizer \n",
      "                number of iterations: 104.6 \n",
      "                optimization time: 39.90755386352539 \n",
      "                Training Error: 138.9375294741721  \n",
      "                training MAPE: 23.355682447265185\n",
      "                \n",
      "Combination 106/108:\n"
     ]
    },
    {
     "name": "stderr",
     "output_type": "stream",
     "text": [
      "Hyperparameter Search:  98%|█████████▊| 106/108 [2:20:58<04:29, 134.97s/it]"
     ]
    },
    {
     "name": "stdout",
     "output_type": "stream",
     "text": [
      "\n",
      "                number of layers: 4  \n",
      "                number of neurons: [128, 64, 32, 16] \n",
      "                activation function: tanh\n",
      "                initialization_mode: xavier \n",
      "                Lambda: 0.1  \n",
      "                optimization solver: L-BFGS-B optimizer \n",
      "                number of iterations: 73.8 \n",
      "                optimization time: 25.402065086364747 \n",
      "                Training Error: 135.01673327817178  \n",
      "                training MAPE: 23.696181955715833\n",
      "                \n",
      "Combination 107/108:\n"
     ]
    },
    {
     "name": "stderr",
     "output_type": "stream",
     "text": [
      "Hyperparameter Search:  99%|█████████▉| 107/108 [2:24:18<02:34, 154.55s/it]"
     ]
    },
    {
     "name": "stdout",
     "output_type": "stream",
     "text": [
      "\n",
      "                number of layers: 4  \n",
      "                number of neurons: [128, 64, 32, 16] \n",
      "                activation function: swish\n",
      "                initialization_mode: he \n",
      "                Lambda: 0.1  \n",
      "                optimization solver: L-BFGS-B optimizer \n",
      "                number of iterations: 53.6 \n",
      "                optimization time: 39.68921871185303 \n",
      "                Training Error: 142.42680745439992  \n",
      "                training MAPE: 23.65860102245549\n",
      "                \n",
      "Combination 108/108:\n"
     ]
    },
    {
     "name": "stderr",
     "output_type": "stream",
     "text": [
      "Hyperparameter Search: 100%|██████████| 108/108 [2:26:55<00:00, 81.63s/it] "
     ]
    },
    {
     "name": "stdout",
     "output_type": "stream",
     "text": [
      "\n",
      "                number of layers: 4  \n",
      "                number of neurons: [128, 64, 32, 16] \n",
      "                activation function: swish\n",
      "                initialization_mode: xavier \n",
      "                Lambda: 0.1  \n",
      "                optimization solver: L-BFGS-B optimizer \n",
      "                number of iterations: 39.2 \n",
      "                optimization time: 31.060601234436035 \n",
      "                Training Error: 116.55835290956539  \n",
      "                training MAPE: 23.416050677706114\n",
      "                \n"
     ]
    },
    {
     "name": "stderr",
     "output_type": "stream",
     "text": [
      "\n"
     ]
    }
   ],
   "source": [
    "# Dictionary to store the best combination of hyperparameters\n",
    "best_hyperparams = None\n",
    "\n",
    "# Initialize best CV loss to a large number to ensure any actual loss will be smaller\n",
    "best_cv_loss = np.inf\n",
    "\n",
    "# List to store the results for each hyperparameter combination\n",
    "cv_results = []\n",
    "\n",
    "# Start the hyperparameter search loop with a progress bar\n",
    "with tqdm(total=len(hyperparameter_combinations), desc=\"Hyperparameter Search\") as pbar:\n",
    "    # Loop through each hyperparameter combination\n",
    "    for idx, (hidden_sizes, lambda_reg, activation, init_mode) in enumerate(hyperparameter_combinations):\n",
    "\n",
    "        # Display the current combination being evaluated\n",
    "        tqdm.write(f\"Combination {idx+1}/{len(hyperparameter_combinations)}:\")\n",
    "#         tqdm.write(f\"Hidden Sizes: {hidden_sizes}, Lambda: {lambda_reg}, Activation: {activation}, Init Mode: {init_mode}\")\n",
    "\n",
    "        # Lists to store fold-level results\n",
    "        val_mape_folds = []              # Validation MAPE per fold\n",
    "        val_reg_errors_folds = []        # Validation regularized error per fold\n",
    "        train_initial_mape_folds = []    # Initial training MAPE per fold (before training)\n",
    "        train_final_mape_folds = []      # Final training MAPE per fold (after training)\n",
    "        fold_opt_results = []            # Optimization results per fold\n",
    "\n",
    "\n",
    "        # Perform k-fold cross-validation\n",
    "        for train_index, val_index in kf.split(X_train):\n",
    "            # Split the training data into training and validation sets for the current fold\n",
    "            X_cv_train, X_val = X_train[train_index], X_train[val_index]\n",
    "            y_cv_train, y_val = y_train[train_index], y_train[val_index]\n",
    "\n",
    "            # Instantiate the model with the current hyperparameters\n",
    "            model_cv = NeuralNetwork(\n",
    "                input_size=X_train.shape[1],  # Number of input features\n",
    "                hidden_layer_sizes=hidden_sizes,  # Current hidden layer configuration\n",
    "                lambda_reg=lambda_reg,  # Regularization parameter\n",
    "                initialization_mode=init_mode,  # Weight initialization method\n",
    "                activation=activation)  # Activation function\n",
    "\n",
    "\n",
    "            # Compute initial training MAPE (before any training)\n",
    "            train_activations_initial, _ = model_cv.forward(X_cv_train)\n",
    "            initial_train_mape = mean_absolute_percentage_error(y_cv_train.flatten(), train_activations_initial[len(model_cv.weights)].flatten())\n",
    "            train_initial_mape_folds.append(initial_train_mape)\n",
    "\n",
    "\n",
    "            # Train the model on the training fold\n",
    "            model_cv , optimization_results_cv = train_nn(X_cv_train, y_cv_train, model_cv, maxiter=200,function_tolerance=1e-4, max_norm=5.0)\n",
    "\n",
    "            # Store the optimization results for the current fold\n",
    "            fold_opt_results.append(optimization_results_cv)\n",
    "\n",
    "            # Final training MAPE (after training)\n",
    "            train_activations_final, _ = model_cv.forward(X_cv_train)\n",
    "            final_train_mape = mean_absolute_percentage_error(y_cv_train.flatten(), train_activations_final[len(model_cv.weights)].flatten())\n",
    "            train_final_mape_folds.append(final_train_mape)\n",
    "\n",
    "\n",
    "            # Compute validation predictions and regularized error\n",
    "            val_activations, _ = model_cv.forward(X_val)\n",
    "            val_reg_error = model_cv.compute_loss(val_activations, y_val)\n",
    "            val_reg_errors_folds.append(val_reg_error)\n",
    "\n",
    "            # Compute validation MAPE(Mean Absolute Percentage Error)\n",
    "            output_layer_index = len(model_cv.weights)  # Index of the output layer\n",
    "            y_val_pred = val_activations[output_layer_index].flatten()  # Predicted values\n",
    "            val_mape = mean_absolute_percentage_error(y_val.flatten(), y_val_pred)\n",
    "            val_mape_folds.append(val_mape)\n",
    "\n",
    "\n",
    "        # Compute the average validation Mape across folds for the current combination\n",
    "        avg_val_mape  = np.mean(val_mape_folds)\n",
    "\n",
    "        #compute the average of regularized error across folds on the validation set.\n",
    "        avg_val_reg_error = np.mean(val_reg_errors_folds)\n",
    "\n",
    "        #Compute the average MAPE across folds for the training set\n",
    "        avg_initial_train_mape = np.mean(train_initial_mape_folds)\n",
    "        avg_final_train_mape = np.mean(train_final_mape_folds)\n",
    "\n",
    "\n",
    "        # Aggregate optimization results across folds\n",
    "        avg_initial_loss = np.mean([res['initial_loss'] for res in fold_opt_results])\n",
    "        avg_final_loss = np.mean([res['Final_Loss'] for res in fold_opt_results])\n",
    "        avg_iterations = np.mean([res['Iteration_number'] for res in fold_opt_results])\n",
    "        avg_optimization_time = np.mean([res['optimization_time_seconds'] for res in fold_opt_results])\n",
    "        success_rate = np.mean([res['Optimization_Success'] for res in fold_opt_results]) * 100  # Success rate as percentage\n",
    "        fold_messages = [res['Optimization_message'] for res in fold_opt_results]\n",
    "        unique_messages = list(set(fold_messages))  # Get unique messages across folds\n",
    "\n",
    "        # Log average validation MAPE for this combination\n",
    "#         tqdm.write(f\"Average CV MAPE: {avg_val_mape:.4f}%\\n\")\n",
    "\n",
    "        # Record the results for this combination\n",
    "        cv_results.append({\n",
    "            'hidden_layer_sizes': hidden_sizes,\n",
    "            'lambda_reg': lambda_reg,\n",
    "            'activation': activation,\n",
    "            'initialization_mode': init_mode,\n",
    "            'avg_val_mape': avg_val_mape,\n",
    "            'avg_val_reg_error': avg_val_reg_error,\n",
    "            'avg_initial_loss': avg_initial_loss,\n",
    "            'avg_final_loss': avg_final_loss,\n",
    "            'avg_initial_train_mape': avg_initial_train_mape,\n",
    "            'avg_final_train_mape': avg_final_train_mape,\n",
    "            'avg_iterations': avg_iterations,\n",
    "            'avg_optimization_time_seconds': avg_optimization_time,\n",
    "            'success_rate': success_rate,\n",
    "            'unique_messages': unique_messages})\n",
    "\n",
    "        # Update the best hyperparameters if the current combination performs better\n",
    "        if avg_val_mape  < best_cv_loss:\n",
    "            best_cv_loss  = avg_val_mape  # Update the best cross-validation loss\n",
    "            best_hyperparams = {  # Update the best hyperparameter combination\n",
    "                'hidden_layer_sizes': hidden_sizes,\n",
    "                'lambda_reg': lambda_reg,\n",
    "                'activation': activation,\n",
    "                'initialization_mode': init_mode}\n",
    "\n",
    "\n",
    "        print(f\"\"\"\n",
    "                number of layers: {len(hidden_sizes)}\n",
    "                number of neurons: {hidden_sizes}\n",
    "                activation function: {activation}\n",
    "                initialization_mode: {init_mode}\n",
    "                Lambda: {lambda_reg}\n",
    "                optimization solver: L-BFGS-B optimizer\n",
    "                number of iterations: {avg_iterations}\n",
    "                optimization time: {avg_optimization_time}\n",
    "                Training Error: {avg_final_loss}\n",
    "                training MAPE: {avg_final_train_mape}\n",
    "                \"\"\")\n",
    "\n",
    "        # Update the progress bar\n",
    "        pbar.update(1)\n",
    "\n",
    "# Save the cross-validation results to a CSV file\n",
    "pd.DataFrame(cv_results).to_csv(\"Hyperparameter_Space_Result.csv\", index=False)\n"
   ]
  },
  {
   "cell_type": "code",
   "execution_count": 10,
   "id": "a9e1898b",
   "metadata": {
    "colab": {
     "base_uri": "https://localhost:8080/"
    },
    "executionInfo": {
     "elapsed": 355,
     "status": "ok",
     "timestamp": 1734283737990,
     "user": {
      "displayName": "Milad Torabi",
      "userId": "05383482760052848377"
     },
     "user_tz": -60
    },
    "id": "a9e1898b",
    "outputId": "8fbc4a8a-36a3-4f9a-cf5b-6bdcc6ca998a"
   },
   "outputs": [
    {
     "name": "stdout",
     "output_type": "stream",
     "text": [
      "Top 5 Hyperparameter Combinations:\n",
      "Hidden Sizes: [128, 64], Lambda: 0.01, Activation: tanh, Init Mode: he, Avg CV MAPE: 23.0615%\n",
      "Hidden Sizes: [128, 64, 32], Lambda: 0.001, Activation: tanh, Init Mode: he, Avg CV MAPE: 23.2089%\n",
      "Hidden Sizes: [64, 32], Lambda: 0.01, Activation: tanh, Init Mode: he, Avg CV MAPE: 23.2251%\n",
      "Hidden Sizes: [64, 32], Lambda: 0.1, Activation: tanh, Init Mode: he, Avg CV MAPE: 23.2266%\n",
      "Hidden Sizes: [128, 64], Lambda: 0.1, Activation: swish, Init Mode: xavier, Avg CV MAPE: 23.2461%\n",
      "\n",
      "Best Hyperparameters Found:\n",
      "{'hidden_layer_sizes': [128, 64], 'lambda_reg': 0.01, 'activation': 'tanh', 'initialization_mode': 'he'}\n"
     ]
    }
   ],
   "source": [
    "# Sort the results by average CV MAPE\n",
    "cv_results_sorted = sorted(cv_results, key=lambda x: x['avg_val_mape'])\n",
    "\n",
    "print(\"Top 5 Hyperparameter Combinations:\")\n",
    "for res in cv_results_sorted[:5]:\n",
    "    print(f\"Hidden Sizes: {res['hidden_layer_sizes']}, Lambda: {res['lambda_reg']}, Activation: {res['activation']}, Init Mode: {res['initialization_mode']}, Avg CV MAPE: {res['avg_val_mape']:.4f}%\")\n",
    "\n",
    "print(\"\\nBest Hyperparameters Found:\")\n",
    "print(best_hyperparams)"
   ]
  },
  {
   "cell_type": "code",
   "execution_count": 11,
   "id": "bf3c7c3c",
   "metadata": {
    "colab": {
     "base_uri": "https://localhost:8080/",
     "height": 726
    },
    "executionInfo": {
     "elapsed": 20076,
     "status": "ok",
     "timestamp": 1734283810443,
     "user": {
      "displayName": "Milad Torabi",
      "userId": "05383482760052848377"
     },
     "user_tz": -60
    },
    "id": "bf3c7c3c",
    "outputId": "b92d6b75-9c96-45c9-d16b-9f83c2712693"
   },
   "outputs": [
    {
     "name": "stdout",
     "output_type": "stream",
     "text": [
      "\n",
      "                number of layers: 2  \n",
      "                number of neurons: [128, 64] \n",
      "                activation function: tanh\n",
      "                initialization_mode: he \n",
      "                Lambda: 0.01  \n",
      "                optimization solver: L-BFGS-B optimizer \n",
      "                number of iterations: 50 \n",
      "                optimization time: 19.0903\n",
      "                optimization_message: CONVERGENCE: REL_REDUCTION_OF_F_<=_FACTR*EPSMCH\n",
      "                Optimization_Success: True\n",
      "                Test Error: 91.3135  \n",
      "                Test MAPE: 23.5604\n",
      "\n"
     ]
    },
    {
     "data": {
      "image/png": "[encoded data removed]",
      "text/plain": [
       "<Figure size 640x480 with 1 Axes>"
      ]
     },
     "metadata": {},
     "output_type": "display_data"
    }
   ],
   "source": [
    "\n",
    "# Instantiate the final model with the best hyperparameters\n",
    "final_model = NeuralNetwork(\n",
    "    input_size=X_train.shape[1],\n",
    "    hidden_layer_sizes=best_hyperparams['hidden_layer_sizes'],\n",
    "    lambda_reg=best_hyperparams['lambda_reg'],\n",
    "    initialization_mode=best_hyperparams['initialization_mode'],\n",
    "    activation=best_hyperparams['activation']\n",
    ")\n",
    "\n",
    "# Train the final model\n",
    "final_model, optimization_results = train_nn(X_train, y_train, final_model, maxiter=200, function_tolerance=1e-4, max_norm=5.0)\n",
    "\n",
    "# Evaluate on test set\n",
    "activations, _ = final_model.forward(X_test)\n",
    "output_layer_index = len(final_model.weights)\n",
    "y_test_pred = activations[output_layer_index].flatten()\n",
    "\n",
    "# Compute Mean Absolute Percentage Error (MAPE) and Final Test Loss\n",
    "test_mape = mean_absolute_percentage_error(y_test.flatten(), y_test_pred)\n",
    "test_final_loss = np.mean((y_test.flatten() - y_test_pred) ** 2)  # Compute MSE as test error\n",
    "\n",
    "# Extract final optimization details\n",
    "avg_iterations = optimization_results['Iteration_number']\n",
    "avg_optimization_time = optimization_results['optimization_time_seconds']\n",
    "\n",
    "# Print the required output for the test set\n",
    "print(f\"\"\"\n",
    "                number of layers: {len(best_hyperparams['hidden_layer_sizes'])}\n",
    "                number of neurons: {best_hyperparams['hidden_layer_sizes']}\n",
    "                activation function: {best_hyperparams['activation']}\n",
    "                initialization_mode: {best_hyperparams['initialization_mode']}\n",
    "                Lambda: {best_hyperparams['lambda_reg']}\n",
    "                optimization solver: L-BFGS-B optimizer\n",
    "                number of iterations: {avg_iterations}\n",
    "                optimization time: {avg_optimization_time:.4f}\n",
    "                optimization_message: {optimization_results['Optimization_message']}\n",
    "                Optimization_Success: {optimization_results['Optimization_Success']}\n",
    "                Test Error: {test_final_loss:.4f}\n",
    "                Test MAPE: {test_mape:.4f}\n",
    "\"\"\")\n",
    "\n",
    "# Plot the loss history\n",
    "plt.plot(final_model.loss_history)\n",
    "plt.title('Final Model Loss History')\n",
    "plt.xlabel('Iteration')\n",
    "plt.ylabel('Loss')\n",
    "plt.show()"
   ]
  }
 ],
 "metadata": {
  "accelerator": "GPU",
  "colab": {
   "gpuType": "T4",
   "provenance": []
  },
  "kernelspec": {
   "display_name": "Python 3 (ipykernel)",
   "language": "python",
   "name": "python3"
  },
  "language_info": {
   "codemirror_mode": {
    "name": "ipython",
    "version": 3
   },
   "file_extension": ".py",
   "mimetype": "text/x-python",
   "name": "python",
   "nbconvert_exporter": "python",
   "pygments_lexer": "ipython3",
   "version": "3.11.4"
  }
 },
 "nbformat": 4,
 "nbformat_minor": 5
}
